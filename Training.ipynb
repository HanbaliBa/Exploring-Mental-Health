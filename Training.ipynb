{
 "cells": [
  {
   "cell_type": "code",
   "execution_count": 1,
   "metadata": {},
   "outputs": [],
   "source": [
    "import pandas as pd\n",
    "import numpy as np"
   ]
  },
  {
   "cell_type": "code",
   "execution_count": 2,
   "metadata": {},
   "outputs": [],
   "source": [
    "train = pd.read_csv('Preprocessed_train.csv')\n",
    "test = pd.read_csv('preprocessed_test.csv')"
   ]
  },
  {
   "cell_type": "code",
   "execution_count": 4,
   "metadata": {},
   "outputs": [
    {
     "name": "stdout",
     "output_type": "stream",
     "text": [
      "(140700, 27)\n",
      "(93800, 26)\n"
     ]
    }
   ],
   "source": [
    "print(train.shape)\n",
    "print(test.shape)"
   ]
  },
  {
   "cell_type": "code",
   "execution_count": 44,
   "metadata": {},
   "outputs": [],
   "source": [
    "y = train['Depression']\n",
    "X = train.drop(columns=['id','Depression'])"
   ]
  },
  {
   "cell_type": "code",
   "execution_count": 45,
   "metadata": {},
   "outputs": [
    {
     "name": "stdout",
     "output_type": "stream",
     "text": [
      "(140700,)\n",
      "(140700, 25)\n"
     ]
    }
   ],
   "source": [
    "print(y.shape)\n",
    "print(X.shape)"
   ]
  },
  {
   "cell_type": "code",
   "execution_count": 46,
   "metadata": {},
   "outputs": [],
   "source": [
    "from  sklearn.model_selection import train_test_split\n",
    "from sklearn.metrics import accuracy_score, classification_report\n",
    "X_train, X_test, y_train, y_test = train_test_split(X, y, test_size=0.2, random_state=42)"
   ]
  },
  {
   "cell_type": "code",
   "execution_count": 47,
   "metadata": {},
   "outputs": [
    {
     "name": "stdout",
     "output_type": "stream",
     "text": [
      "Accuracy: 0.935820895522388\n",
      "              precision    recall  f1-score   support\n",
      "\n",
      "           0       0.96      0.97      0.96     22986\n",
      "           1       0.84      0.80      0.82      5154\n",
      "\n",
      "    accuracy                           0.94     28140\n",
      "   macro avg       0.90      0.88      0.89     28140\n",
      "weighted avg       0.93      0.94      0.94     28140\n",
      "\n"
     ]
    }
   ],
   "source": [
    "from sklearn.ensemble import RandomForestClassifier\n",
    "\n",
    "rf_model = RandomForestClassifier(n_estimators= 500, random_state= 42)\n",
    "rf_model.fit(X_train, y_train)\n",
    "y_pred_rf = rf_model.predict(X_test)\n",
    "\n",
    "accuracy = accuracy_score(y_test, y_pred_rf)\n",
    "print(f\"Accuracy: {accuracy}\")\n",
    "print(classification_report(y_test, y_pred_rf))"
   ]
  },
  {
   "cell_type": "code",
   "execution_count": 48,
   "metadata": {},
   "outputs": [
    {
     "name": "stdout",
     "output_type": "stream",
     "text": [
      "Accuracy: 0.9363894811656006\n",
      "\n",
      "Classification Report:\n",
      "              precision    recall  f1-score   support\n",
      "\n",
      "           0       0.96      0.97      0.96     22986\n",
      "           1       0.84      0.81      0.82      5154\n",
      "\n",
      "    accuracy                           0.94     28140\n",
      "   macro avg       0.90      0.89      0.89     28140\n",
      "weighted avg       0.94      0.94      0.94     28140\n",
      "\n"
     ]
    }
   ],
   "source": [
    "from sklearn.linear_model import LogisticRegression\n",
    "\n",
    "# Initialiser le modèle de régression logistique\n",
    "log_reg = LogisticRegression(random_state=42, max_iter = 5000)\n",
    "\n",
    "# Entraîner le modèle\n",
    "log_reg.fit(X_train, y_train)\n",
    "\n",
    "# Prédire sur l'ensemble de test\n",
    "y_pred_log = log_reg.predict(X_test)\n",
    "\n",
    "# Calculer la précision\n",
    "accuracy = accuracy_score(y_test, y_pred_log)\n",
    "print(f\"Accuracy: {accuracy}\")\n",
    "\n",
    "# Rapport détaillé\n",
    "print(\"\\nClassification Report:\")\n",
    "print(classification_report(y_test, y_pred_log))\n"
   ]
  },
  {
   "cell_type": "code",
   "execution_count": 49,
   "metadata": {},
   "outputs": [
    {
     "name": "stdout",
     "output_type": "stream",
     "text": [
      "Accuracy: 0.9366737739872069\n",
      "              precision    recall  f1-score   support\n",
      "\n",
      "           0       0.96      0.96      0.96     22986\n",
      "           1       0.84      0.81      0.82      5154\n",
      "\n",
      "    accuracy                           0.94     28140\n",
      "   macro avg       0.90      0.89      0.89     28140\n",
      "weighted avg       0.94      0.94      0.94     28140\n",
      "\n"
     ]
    }
   ],
   "source": [
    "from xgboost import XGBClassifier\n",
    "\n",
    "xgb = XGBClassifier(random_state=42)\n",
    "xgb.fit(X_train, y_train)\n",
    "y_pred_xgb = xgb.predict(X_test)\n",
    "\n",
    "accuracy = accuracy_score(y_test, y_pred_xgb)\n",
    "print(f\"Accuracy: {accuracy}\")\n",
    "print(classification_report(y_test, y_pred_xgb))\n"
   ]
  },
  {
   "cell_type": "code",
   "execution_count": 50,
   "metadata": {},
   "outputs": [
    {
     "name": "stdout",
     "output_type": "stream",
     "text": [
      "0:\tlearn: 0.6066339\ttest: 0.6062616\tbest: 0.6062616 (0)\ttotal: 46.8ms\tremaining: 46.7s\n",
      "100:\tlearn: 0.1519828\ttest: 0.1515766\tbest: 0.1515766 (100)\ttotal: 5.15s\tremaining: 45.9s\n",
      "200:\tlearn: 0.1476683\ttest: 0.1496763\tbest: 0.1496763 (200)\ttotal: 8.42s\tremaining: 33.5s\n",
      "300:\tlearn: 0.1455185\ttest: 0.1494039\tbest: 0.1493813 (275)\ttotal: 11.6s\tremaining: 26.9s\n",
      "Stopped by overfitting detector  (50 iterations wait)\n",
      "\n",
      "bestTest = 0.149381307\n",
      "bestIteration = 275\n",
      "\n",
      "Shrink model to first 276 iterations.\n",
      "CatBoost Accuracy: 0.9392324093816631\n",
      "\n",
      "Classification Report:\n",
      "              precision    recall  f1-score   support\n",
      "\n",
      "           0       0.96      0.97      0.96     22986\n",
      "           1       0.85      0.82      0.83      5154\n",
      "\n",
      "    accuracy                           0.94     28140\n",
      "   macro avg       0.90      0.89      0.90     28140\n",
      "weighted avg       0.94      0.94      0.94     28140\n",
      "\n"
     ]
    }
   ],
   "source": [
    "from catboost import CatBoostClassifier\n",
    "\n",
    "# Initialize CatBoostClassifier\n",
    "cat_model = CatBoostClassifier(\n",
    "    iterations=1000,\n",
    "    learning_rate=0.05,\n",
    "    depth=6,\n",
    "    random_seed=42,\n",
    "    loss_function='Logloss',\n",
    "    verbose=100 )\n",
    "\n",
    "\n",
    "cat_model.fit(X_train, y_train, eval_set=(X_test, y_test), early_stopping_rounds=50)\n",
    "\n",
    "y_pred = cat_model.predict(X_test)\n",
    "\n",
    "accuracy = accuracy_score(y_test, y_pred)\n",
    "print(f\"CatBoost Accuracy: {accuracy}\")\n",
    "print(\"\\nClassification Report:\")\n",
    "print(classification_report(y_test, y_pred))\n"
   ]
  },
  {
   "cell_type": "code",
   "execution_count": 35,
   "metadata": {},
   "outputs": [
    {
     "name": "stdout",
     "output_type": "stream",
     "text": [
      "--------Randomforest---------\n",
      "\n",
      "Accuracy: 0.9362473347547975\n",
      "              precision    recall  f1-score   support\n",
      "\n",
      "           0       0.96      0.97      0.96     22986\n",
      "           1       0.85      0.80      0.82      5154\n",
      "\n",
      "    accuracy                           0.94     28140\n",
      "   macro avg       0.90      0.88      0.89     28140\n",
      "weighted avg       0.94      0.94      0.94     28140\n",
      "\n",
      "--------LogisticRegression---------\n",
      "\n",
      "Accuracy: 0.9364250177683013\n",
      "\n",
      "Classification Report:\n",
      "              precision    recall  f1-score   support\n",
      "\n",
      "           0       0.96      0.97      0.96     22986\n",
      "           1       0.84      0.81      0.82      5154\n",
      "\n",
      "    accuracy                           0.94     28140\n",
      "   macro avg       0.90      0.89      0.89     28140\n",
      "weighted avg       0.94      0.94      0.94     28140\n",
      "\n",
      "--------XGboot---------\n",
      "\n",
      "Accuracy: 0.9363539445628998\n",
      "              precision    recall  f1-score   support\n",
      "\n",
      "           0       0.96      0.96      0.96     22986\n",
      "           1       0.83      0.82      0.82      5154\n",
      "\n",
      "    accuracy                           0.94     28140\n",
      "   macro avg       0.90      0.89      0.89     28140\n",
      "weighted avg       0.94      0.94      0.94     28140\n",
      "\n",
      "--------CatBoost---------\n",
      "\n",
      "CatBoost Accuracy: 0.9385572139303483\n",
      "\n",
      "Classification Report:\n",
      "              precision    recall  f1-score   support\n",
      "\n",
      "           0       0.96      0.97      0.96     22986\n",
      "           1       0.84      0.82      0.83      5154\n",
      "\n",
      "    accuracy                           0.94     28140\n",
      "   macro avg       0.90      0.89      0.90     28140\n",
      "weighted avg       0.94      0.94      0.94     28140\n",
      "\n"
     ]
    }
   ],
   "source": [
    "print(\"--------Randomforest---------\\n\")\n",
    "accuracy = accuracy_score(y_test, y_pred_rf)\n",
    "print(f\"Accuracy: {accuracy}\")\n",
    "print(classification_report(y_test, y_pred_rf))\n",
    "\n",
    "print(\"--------LogisticRegression---------\\n\")\n",
    "# Calculer la précision\n",
    "accuracy = accuracy_score(y_test, y_pred_log)\n",
    "print(f\"Accuracy: {accuracy}\")\n",
    "# Rapport détaillé\n",
    "print(\"\\nClassification Report:\")\n",
    "print(classification_report(y_test, y_pred_log))\n",
    "\n",
    "print(\"--------XGboot---------\\n\")\n",
    "accuracy = accuracy_score(y_test, y_pred_xgb)\n",
    "print(f\"Accuracy: {accuracy}\")\n",
    "print(classification_report(y_test, y_pred_xgb))\n",
    "\n",
    "print(\"--------CatBoost---------\\n\")\n",
    "accuracy = accuracy_score(y_test, y_pred)\n",
    "print(f\"CatBoost Accuracy: {accuracy}\")\n",
    "print(\"\\nClassification Report:\")\n",
    "print(classification_report(y_test, y_pred))"
   ]
  },
  {
   "cell_type": "code",
   "execution_count": 71,
   "metadata": {},
   "outputs": [
    {
     "name": "stdout",
     "output_type": "stream",
     "text": [
      "0:\tlearn: 0.6275574\ttotal: 9.93ms\tremaining: 9.92s\n",
      "100:\tlearn: 0.1999322\ttotal: 792ms\tremaining: 7.05s\n",
      "200:\tlearn: 0.1999125\ttotal: 1.41s\tremaining: 5.62s\n",
      "300:\tlearn: 0.1999077\ttotal: 2.04s\tremaining: 4.74s\n",
      "400:\tlearn: 0.1999077\ttotal: 2.82s\tremaining: 4.21s\n",
      "500:\tlearn: 0.1999077\ttotal: 3.46s\tremaining: 3.45s\n",
      "600:\tlearn: 0.1999077\ttotal: 4.09s\tremaining: 2.71s\n",
      "700:\tlearn: 0.1999077\ttotal: 4.68s\tremaining: 2s\n",
      "800:\tlearn: 0.1999077\ttotal: 5.28s\tremaining: 1.31s\n",
      "900:\tlearn: 0.1999077\ttotal: 5.89s\tremaining: 648ms\n",
      "999:\tlearn: 0.1999077\ttotal: 6.5s\tremaining: 0us\n",
      "CatBoost Accuracy: 0.9397654584221748\n"
     ]
    }
   ],
   "source": [
    "from catboost import CatBoostClassifier\n",
    "\n",
    "# Create a new dataset with predictions from each model\n",
    "X_meta = np.column_stack([y_pred, y_pred_xgb, y_pred_log, y_pred_rf])\n",
    "# Initialize CatBoostClassifier\n",
    "meta_model1 = CatBoostClassifier(\n",
    "    iterations=1000,\n",
    "    learning_rate=0.05,\n",
    "    depth=6,\n",
    "    random_seed=42,\n",
    "    loss_function='Logloss',\n",
    "    verbose=100 )\n",
    "\n",
    "meta_model1.fit(X_meta, y_test)\n",
    "\n",
    "# Get final predictions using the meta model\n",
    "final_predictions = meta_model1.predict(X_meta)\n",
    "accuracy = accuracy_score(y_test, final_predictions)\n",
    "print(f\"CatBoost Accuracy: {accuracy}\")\n"
   ]
  },
  {
   "cell_type": "code",
   "execution_count": 72,
   "metadata": {},
   "outputs": [
    {
     "name": "stdout",
     "output_type": "stream",
     "text": [
      "CatBoost Accuracy: 0.9397654584221748\n"
     ]
    }
   ],
   "source": [
    "from sklearn.ensemble import RandomForestClassifier\n",
    "\n",
    "# Create a new dataset with predictions from each model\n",
    "X_meta = np.column_stack([y_pred, y_pred_xgb, y_pred_log, y_pred_rf])\n",
    "\n",
    "# Train a logistic regression model on the meta dataset\n",
    "meta_model = RandomForestClassifier(n_estimators= 500, random_state= 42)\n",
    "meta_model.fit(X_meta, y_test)\n",
    "\n",
    "# Get final predictions using the meta model\n",
    "final_predictions = meta_model.predict(X_meta)\n",
    "accuracy = accuracy_score(y_test, final_predictions)\n",
    "print(f\"CatBoost Accuracy: {accuracy}\")\n"
   ]
  },
  {
   "cell_type": "code",
   "execution_count": 68,
   "metadata": {},
   "outputs": [
    {
     "name": "stdout",
     "output_type": "stream",
     "text": [
      "CatBoost Accuracy: 0.9379175550817341\n"
     ]
    }
   ],
   "source": [
    "accuracy = accuracy_score(y_test, final_predictions)\n",
    "print(f\"CatBoost Accuracy: {accuracy}\")"
   ]
  },
  {
   "cell_type": "code",
   "execution_count": 37,
   "metadata": {},
   "outputs": [],
   "source": [
    "ID = test['id']\n",
    "test.drop(columns=['id'],inplace=True)"
   ]
  },
  {
   "cell_type": "code",
   "execution_count": 78,
   "metadata": {},
   "outputs": [],
   "source": [
    "test_pred = cat_model.predict(test)\n",
    "test_pred_rf = rf_model.predict(test)\n",
    "test_pred_log = log_reg.predict(test)\n",
    "test_pred_xgb = xgb.predict(test)"
   ]
  },
  {
   "cell_type": "code",
   "execution_count": 79,
   "metadata": {},
   "outputs": [],
   "source": [
    "test_meta = np.column_stack([test_pred, test_pred_rf, test_pred_log, test_pred_xgb])\n",
    "final_predictions = meta_model1.predict(test_meta)"
   ]
  },
  {
   "cell_type": "code",
   "execution_count": 80,
   "metadata": {},
   "outputs": [],
   "source": [
    "submission = pd.DataFrame({\n",
    "    'id': ID,  # Replace with the column name in the test dataset for IDs\n",
    "    'prediction': final_predictions\n",
    "})\n",
    "\n",
    "# Save the DataFrame as a CSV file\n",
    "submission.to_csv('submission1.csv', index=False)"
   ]
  },
  {
   "cell_type": "code",
   "execution_count": 82,
   "metadata": {},
   "outputs": [
    {
     "data": {
      "text/plain": [
       "(93800, 2)"
      ]
     },
     "execution_count": 82,
     "metadata": {},
     "output_type": "execute_result"
    }
   ],
   "source": [
    "submission.shape"
   ]
  },
  {
   "cell_type": "markdown",
   "metadata": {},
   "source": [
    "# <center>---------------------Features selection---------------------<center>"
   ]
  },
  {
   "cell_type": "code",
   "execution_count": null,
   "metadata": {},
   "outputs": [
    {
     "data": {
      "text/plain": [
       "(93800, 2)"
      ]
     },
     "execution_count": 88,
     "metadata": {},
     "output_type": "execute_result"
    }
   ],
   "source": [
    "from sklearn.model_selection import StratifiedKFold, train_test_split\n",
    "from sklearn.linear_model import LogisticRegression\n",
    "from sklearn.metrics import accuracy_score, roc_auc_score, roc_curve\n",
    "import matplotlib.pyplot as plt\n",
    "import numpy as np\n",
    "\n",
    "X_train, X_test, y_train, y_test = train_test_split(X, y, test_size=0.2, random_state=42)\n",
    "\n",
    "model = LogisticRegression(random_state=42, max_iter=1000)\n",
    "model.fit(X_train, y_train)\n",
    "\n",
    "y_pred_proba = model.predict_proba(X_test)[:, 1]\n",
    "\n",
    "fpr, tpr, thresholds = roc_curve(y_test, y_pred_proba)\n",
    "\n",
    "accuracy_scores = []\n",
    "for threshold in thresholds:\n",
    "    y_pred_threshold = (y_pred_proba > threshold).astype(int)\n",
    "    accuracy_scores.append(accuracy_score(y_test, y_pred_threshold))\n",
    "\n",
    "best_threshold = thresholds[np.argmax(accuracy_scores)]\n",
    "\n",
    "print(f\"Best Threshold (Max Accuracy): {best_threshold}\")\n",
    "\n",
    "y_pred_best_threshold = (y_pred_proba > best_threshold).astype(int)\n",
    "\n",
    "accuracy_best_threshold = accuracy_score(y_test, y_pred_best_threshold)\n",
    "roc_auc_best_threshold = roc_auc_score(y_test, y_pred_proba)\n",
    "\n",
    "print(f\"Accuracy (Best Threshold): {accuracy_best_threshold:.4f}\")\n",
    "print(f\"ROC AUC (Best Threshold): {roc_auc_best_threshold:.4f}\")\n",
    "\n",
    "plt.figure(figsize=(8, 6))\n",
    "plt.plot(fpr, tpr, color='b', label='ROC curve (area = %0.2f)' % roc_auc_best_threshold)\n",
    "plt.plot([0, 1], [0, 1], color='gray', linestyle='--')\n",
    "plt.scatter(fpr[np.argmax(accuracy_scores)], tpr[np.argmax(accuracy_scores)], marker='o', color='red', label='Best Threshold')\n",
    "plt.xlabel('False Positive Rate')\n",
    "plt.ylabel('True Positive Rate')\n",
    "plt.title('Receiver Operating Characteristic')\n",
    "plt.legend(loc='lower right')\n",
    "plt.show()"
   ]
  },
  {
   "cell_type": "code",
   "execution_count": null,
   "metadata": {},
   "outputs": [],
   "source": []
  }
 ],
 "metadata": {
  "kernelspec": {
   "display_name": "Python 3",
   "language": "python",
   "name": "python3"
  },
  "language_info": {
   "codemirror_mode": {
    "name": "ipython",
    "version": 3
   },
   "file_extension": ".py",
   "mimetype": "text/x-python",
   "name": "python",
   "nbconvert_exporter": "python",
   "pygments_lexer": "ipython3",
   "version": "3.11.9"
  }
 },
 "nbformat": 4,
 "nbformat_minor": 2
}
