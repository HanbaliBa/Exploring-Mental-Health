{
 "cells": [
  {
   "cell_type": "markdown",
   "metadata": {},
   "source": [
    "# <center> ------------Data Visualization------------ </center>"
   ]
  },
  {
   "cell_type": "code",
   "execution_count": 243,
   "metadata": {},
   "outputs": [
    {
     "data": {
      "text/plain": [
       "(140700, 20)"
      ]
     },
     "execution_count": 243,
     "metadata": {},
     "output_type": "execute_result"
    }
   ],
   "source": [
    "import pandas as pd\n",
    "import numpy as np\n",
    "data = pd.read_csv(\"train.csv\")\n",
    "data.shape"
   ]
  },
  {
   "cell_type": "code",
   "execution_count": 244,
   "metadata": {},
   "outputs": [
    {
     "data": {
      "text/html": [
       "<div>\n",
       "<style scoped>\n",
       "    .dataframe tbody tr th:only-of-type {\n",
       "        vertical-align: middle;\n",
       "    }\n",
       "\n",
       "    .dataframe tbody tr th {\n",
       "        vertical-align: top;\n",
       "    }\n",
       "\n",
       "    .dataframe thead th {\n",
       "        text-align: right;\n",
       "    }\n",
       "</style>\n",
       "<table border=\"1\" class=\"dataframe\">\n",
       "  <thead>\n",
       "    <tr style=\"text-align: right;\">\n",
       "      <th></th>\n",
       "      <th>id</th>\n",
       "      <th>Name</th>\n",
       "      <th>Gender</th>\n",
       "      <th>Age</th>\n",
       "      <th>City</th>\n",
       "      <th>Working Professional or Student</th>\n",
       "      <th>Profession</th>\n",
       "      <th>Academic Pressure</th>\n",
       "      <th>Work Pressure</th>\n",
       "      <th>CGPA</th>\n",
       "      <th>Study Satisfaction</th>\n",
       "      <th>Job Satisfaction</th>\n",
       "      <th>Sleep Duration</th>\n",
       "      <th>Dietary Habits</th>\n",
       "      <th>Degree</th>\n",
       "      <th>Have you ever had suicidal thoughts ?</th>\n",
       "      <th>Work/Study Hours</th>\n",
       "      <th>Financial Stress</th>\n",
       "      <th>Family History of Mental Illness</th>\n",
       "      <th>Depression</th>\n",
       "    </tr>\n",
       "  </thead>\n",
       "  <tbody>\n",
       "    <tr>\n",
       "      <th>0</th>\n",
       "      <td>0</td>\n",
       "      <td>Aaradhya</td>\n",
       "      <td>Female</td>\n",
       "      <td>49.0</td>\n",
       "      <td>Ludhiana</td>\n",
       "      <td>Working Professional</td>\n",
       "      <td>Chef</td>\n",
       "      <td>NaN</td>\n",
       "      <td>5.0</td>\n",
       "      <td>NaN</td>\n",
       "      <td>NaN</td>\n",
       "      <td>2.0</td>\n",
       "      <td>More than 8 hours</td>\n",
       "      <td>Healthy</td>\n",
       "      <td>BHM</td>\n",
       "      <td>No</td>\n",
       "      <td>1.0</td>\n",
       "      <td>2.0</td>\n",
       "      <td>No</td>\n",
       "      <td>0</td>\n",
       "    </tr>\n",
       "    <tr>\n",
       "      <th>1</th>\n",
       "      <td>1</td>\n",
       "      <td>Vivan</td>\n",
       "      <td>Male</td>\n",
       "      <td>26.0</td>\n",
       "      <td>Varanasi</td>\n",
       "      <td>Working Professional</td>\n",
       "      <td>Teacher</td>\n",
       "      <td>NaN</td>\n",
       "      <td>4.0</td>\n",
       "      <td>NaN</td>\n",
       "      <td>NaN</td>\n",
       "      <td>3.0</td>\n",
       "      <td>Less than 5 hours</td>\n",
       "      <td>Unhealthy</td>\n",
       "      <td>LLB</td>\n",
       "      <td>Yes</td>\n",
       "      <td>7.0</td>\n",
       "      <td>3.0</td>\n",
       "      <td>No</td>\n",
       "      <td>1</td>\n",
       "    </tr>\n",
       "    <tr>\n",
       "      <th>2</th>\n",
       "      <td>2</td>\n",
       "      <td>Yuvraj</td>\n",
       "      <td>Male</td>\n",
       "      <td>33.0</td>\n",
       "      <td>Visakhapatnam</td>\n",
       "      <td>Student</td>\n",
       "      <td>NaN</td>\n",
       "      <td>5.0</td>\n",
       "      <td>NaN</td>\n",
       "      <td>8.97</td>\n",
       "      <td>2.0</td>\n",
       "      <td>NaN</td>\n",
       "      <td>5-6 hours</td>\n",
       "      <td>Healthy</td>\n",
       "      <td>B.Pharm</td>\n",
       "      <td>Yes</td>\n",
       "      <td>3.0</td>\n",
       "      <td>1.0</td>\n",
       "      <td>No</td>\n",
       "      <td>1</td>\n",
       "    </tr>\n",
       "    <tr>\n",
       "      <th>3</th>\n",
       "      <td>3</td>\n",
       "      <td>Yuvraj</td>\n",
       "      <td>Male</td>\n",
       "      <td>22.0</td>\n",
       "      <td>Mumbai</td>\n",
       "      <td>Working Professional</td>\n",
       "      <td>Teacher</td>\n",
       "      <td>NaN</td>\n",
       "      <td>5.0</td>\n",
       "      <td>NaN</td>\n",
       "      <td>NaN</td>\n",
       "      <td>1.0</td>\n",
       "      <td>Less than 5 hours</td>\n",
       "      <td>Moderate</td>\n",
       "      <td>BBA</td>\n",
       "      <td>Yes</td>\n",
       "      <td>10.0</td>\n",
       "      <td>1.0</td>\n",
       "      <td>Yes</td>\n",
       "      <td>1</td>\n",
       "    </tr>\n",
       "    <tr>\n",
       "      <th>4</th>\n",
       "      <td>4</td>\n",
       "      <td>Rhea</td>\n",
       "      <td>Female</td>\n",
       "      <td>30.0</td>\n",
       "      <td>Kanpur</td>\n",
       "      <td>Working Professional</td>\n",
       "      <td>Business Analyst</td>\n",
       "      <td>NaN</td>\n",
       "      <td>1.0</td>\n",
       "      <td>NaN</td>\n",
       "      <td>NaN</td>\n",
       "      <td>1.0</td>\n",
       "      <td>5-6 hours</td>\n",
       "      <td>Unhealthy</td>\n",
       "      <td>BBA</td>\n",
       "      <td>Yes</td>\n",
       "      <td>9.0</td>\n",
       "      <td>4.0</td>\n",
       "      <td>Yes</td>\n",
       "      <td>0</td>\n",
       "    </tr>\n",
       "  </tbody>\n",
       "</table>\n",
       "</div>"
      ],
      "text/plain": [
       "   id      Name  Gender   Age           City Working Professional or Student  \\\n",
       "0   0  Aaradhya  Female  49.0       Ludhiana            Working Professional   \n",
       "1   1     Vivan    Male  26.0       Varanasi            Working Professional   \n",
       "2   2    Yuvraj    Male  33.0  Visakhapatnam                         Student   \n",
       "3   3    Yuvraj    Male  22.0         Mumbai            Working Professional   \n",
       "4   4      Rhea  Female  30.0         Kanpur            Working Professional   \n",
       "\n",
       "         Profession  Academic Pressure  Work Pressure  CGPA  \\\n",
       "0              Chef                NaN            5.0   NaN   \n",
       "1           Teacher                NaN            4.0   NaN   \n",
       "2               NaN                5.0            NaN  8.97   \n",
       "3           Teacher                NaN            5.0   NaN   \n",
       "4  Business Analyst                NaN            1.0   NaN   \n",
       "\n",
       "   Study Satisfaction  Job Satisfaction     Sleep Duration Dietary Habits  \\\n",
       "0                 NaN               2.0  More than 8 hours        Healthy   \n",
       "1                 NaN               3.0  Less than 5 hours      Unhealthy   \n",
       "2                 2.0               NaN          5-6 hours        Healthy   \n",
       "3                 NaN               1.0  Less than 5 hours       Moderate   \n",
       "4                 NaN               1.0          5-6 hours      Unhealthy   \n",
       "\n",
       "    Degree Have you ever had suicidal thoughts ?  Work/Study Hours  \\\n",
       "0      BHM                                    No               1.0   \n",
       "1      LLB                                   Yes               7.0   \n",
       "2  B.Pharm                                   Yes               3.0   \n",
       "3      BBA                                   Yes              10.0   \n",
       "4      BBA                                   Yes               9.0   \n",
       "\n",
       "   Financial Stress Family History of Mental Illness  Depression  \n",
       "0               2.0                               No           0  \n",
       "1               3.0                               No           1  \n",
       "2               1.0                               No           1  \n",
       "3               1.0                              Yes           1  \n",
       "4               4.0                              Yes           0  "
      ]
     },
     "execution_count": 244,
     "metadata": {},
     "output_type": "execute_result"
    }
   ],
   "source": [
    "data.head()"
   ]
  },
  {
   "cell_type": "code",
   "execution_count": 245,
   "metadata": {},
   "outputs": [
    {
     "name": "stdout",
     "output_type": "stream",
     "text": [
      "<class 'pandas.core.frame.DataFrame'>\n",
      "RangeIndex: 140700 entries, 0 to 140699\n",
      "Data columns (total 20 columns):\n",
      " #   Column                                 Non-Null Count   Dtype  \n",
      "---  ------                                 --------------   -----  \n",
      " 0   id                                     140700 non-null  int64  \n",
      " 1   Name                                   140700 non-null  object \n",
      " 2   Gender                                 140700 non-null  object \n",
      " 3   Age                                    140700 non-null  float64\n",
      " 4   City                                   140700 non-null  object \n",
      " 5   Working Professional or Student        140700 non-null  object \n",
      " 6   Profession                             104070 non-null  object \n",
      " 7   Academic Pressure                      27897 non-null   float64\n",
      " 8   Work Pressure                          112782 non-null  float64\n",
      " 9   CGPA                                   27898 non-null   float64\n",
      " 10  Study Satisfaction                     27897 non-null   float64\n",
      " 11  Job Satisfaction                       112790 non-null  float64\n",
      " 12  Sleep Duration                         140700 non-null  object \n",
      " 13  Dietary Habits                         140696 non-null  object \n",
      " 14  Degree                                 140698 non-null  object \n",
      " 15  Have you ever had suicidal thoughts ?  140700 non-null  object \n",
      " 16  Work/Study Hours                       140700 non-null  float64\n",
      " 17  Financial Stress                       140696 non-null  float64\n",
      " 18  Family History of Mental Illness       140700 non-null  object \n",
      " 19  Depression                             140700 non-null  int64  \n",
      "dtypes: float64(8), int64(2), object(10)\n",
      "memory usage: 21.5+ MB\n"
     ]
    }
   ],
   "source": [
    "data.info()"
   ]
  },
  {
   "cell_type": "code",
   "execution_count": 246,
   "metadata": {},
   "outputs": [
    {
     "data": {
      "text/plain": [
       "array(['More than 8 hours', 'Less than 5 hours', '5-6 hours', '7-8 hours',\n",
       "       'Sleep_Duration', '1-2 hours', '6-8 hours', '4-6 hours',\n",
       "       '6-7 hours', '10-11 hours', '8-9 hours', '40-45 hours',\n",
       "       '9-11 hours', '2-3 hours', '3-4 hours', 'Moderate', '55-66 hours',\n",
       "       '4-5 hours', '9-6 hours', '1-3 hours', 'Indore', '45', '1-6 hours',\n",
       "       '35-36 hours', '8 hours', 'No', '10-6 hours', 'than 5 hours',\n",
       "       '49 hours', 'Unhealthy', 'Work_Study_Hours', '3-6 hours',\n",
       "       '45-48 hours', '9-5', 'Pune', '9-5 hours'], dtype=object)"
      ]
     },
     "execution_count": 246,
     "metadata": {},
     "output_type": "execute_result"
    }
   ],
   "source": [
    "data['Sleep Duration'].unique()"
   ]
  },
  {
   "cell_type": "code",
   "execution_count": 247,
   "metadata": {},
   "outputs": [
    {
     "data": {
      "text/html": [
       "<div>\n",
       "<style scoped>\n",
       "    .dataframe tbody tr th:only-of-type {\n",
       "        vertical-align: middle;\n",
       "    }\n",
       "\n",
       "    .dataframe tbody tr th {\n",
       "        vertical-align: top;\n",
       "    }\n",
       "\n",
       "    .dataframe thead th {\n",
       "        text-align: right;\n",
       "    }\n",
       "</style>\n",
       "<table border=\"1\" class=\"dataframe\">\n",
       "  <thead>\n",
       "    <tr style=\"text-align: right;\">\n",
       "      <th></th>\n",
       "      <th>id</th>\n",
       "      <th>Age</th>\n",
       "      <th>Academic Pressure</th>\n",
       "      <th>Work Pressure</th>\n",
       "      <th>CGPA</th>\n",
       "      <th>Study Satisfaction</th>\n",
       "      <th>Job Satisfaction</th>\n",
       "      <th>Work/Study Hours</th>\n",
       "      <th>Financial Stress</th>\n",
       "      <th>Depression</th>\n",
       "    </tr>\n",
       "  </thead>\n",
       "  <tbody>\n",
       "    <tr>\n",
       "      <th>count</th>\n",
       "      <td>140700.000000</td>\n",
       "      <td>140700.000000</td>\n",
       "      <td>27897.000000</td>\n",
       "      <td>112782.000000</td>\n",
       "      <td>27898.000000</td>\n",
       "      <td>27897.000000</td>\n",
       "      <td>112790.000000</td>\n",
       "      <td>140700.000000</td>\n",
       "      <td>140696.000000</td>\n",
       "      <td>140700.000000</td>\n",
       "    </tr>\n",
       "    <tr>\n",
       "      <th>mean</th>\n",
       "      <td>70349.500000</td>\n",
       "      <td>40.388621</td>\n",
       "      <td>3.142273</td>\n",
       "      <td>2.998998</td>\n",
       "      <td>7.658636</td>\n",
       "      <td>2.944940</td>\n",
       "      <td>2.974404</td>\n",
       "      <td>6.252679</td>\n",
       "      <td>2.988983</td>\n",
       "      <td>0.181713</td>\n",
       "    </tr>\n",
       "    <tr>\n",
       "      <th>std</th>\n",
       "      <td>40616.735775</td>\n",
       "      <td>12.384099</td>\n",
       "      <td>1.380457</td>\n",
       "      <td>1.405771</td>\n",
       "      <td>1.464466</td>\n",
       "      <td>1.360197</td>\n",
       "      <td>1.416078</td>\n",
       "      <td>3.853615</td>\n",
       "      <td>1.413633</td>\n",
       "      <td>0.385609</td>\n",
       "    </tr>\n",
       "    <tr>\n",
       "      <th>min</th>\n",
       "      <td>0.000000</td>\n",
       "      <td>18.000000</td>\n",
       "      <td>1.000000</td>\n",
       "      <td>1.000000</td>\n",
       "      <td>5.030000</td>\n",
       "      <td>1.000000</td>\n",
       "      <td>1.000000</td>\n",
       "      <td>0.000000</td>\n",
       "      <td>1.000000</td>\n",
       "      <td>0.000000</td>\n",
       "    </tr>\n",
       "    <tr>\n",
       "      <th>25%</th>\n",
       "      <td>35174.750000</td>\n",
       "      <td>29.000000</td>\n",
       "      <td>2.000000</td>\n",
       "      <td>2.000000</td>\n",
       "      <td>6.290000</td>\n",
       "      <td>2.000000</td>\n",
       "      <td>2.000000</td>\n",
       "      <td>3.000000</td>\n",
       "      <td>2.000000</td>\n",
       "      <td>0.000000</td>\n",
       "    </tr>\n",
       "    <tr>\n",
       "      <th>50%</th>\n",
       "      <td>70349.500000</td>\n",
       "      <td>42.000000</td>\n",
       "      <td>3.000000</td>\n",
       "      <td>3.000000</td>\n",
       "      <td>7.770000</td>\n",
       "      <td>3.000000</td>\n",
       "      <td>3.000000</td>\n",
       "      <td>6.000000</td>\n",
       "      <td>3.000000</td>\n",
       "      <td>0.000000</td>\n",
       "    </tr>\n",
       "    <tr>\n",
       "      <th>75%</th>\n",
       "      <td>105524.250000</td>\n",
       "      <td>51.000000</td>\n",
       "      <td>4.000000</td>\n",
       "      <td>4.000000</td>\n",
       "      <td>8.920000</td>\n",
       "      <td>4.000000</td>\n",
       "      <td>4.000000</td>\n",
       "      <td>10.000000</td>\n",
       "      <td>4.000000</td>\n",
       "      <td>0.000000</td>\n",
       "    </tr>\n",
       "    <tr>\n",
       "      <th>max</th>\n",
       "      <td>140699.000000</td>\n",
       "      <td>60.000000</td>\n",
       "      <td>5.000000</td>\n",
       "      <td>5.000000</td>\n",
       "      <td>10.000000</td>\n",
       "      <td>5.000000</td>\n",
       "      <td>5.000000</td>\n",
       "      <td>12.000000</td>\n",
       "      <td>5.000000</td>\n",
       "      <td>1.000000</td>\n",
       "    </tr>\n",
       "  </tbody>\n",
       "</table>\n",
       "</div>"
      ],
      "text/plain": [
       "                  id            Age  Academic Pressure  Work Pressure  \\\n",
       "count  140700.000000  140700.000000       27897.000000  112782.000000   \n",
       "mean    70349.500000      40.388621           3.142273       2.998998   \n",
       "std     40616.735775      12.384099           1.380457       1.405771   \n",
       "min         0.000000      18.000000           1.000000       1.000000   \n",
       "25%     35174.750000      29.000000           2.000000       2.000000   \n",
       "50%     70349.500000      42.000000           3.000000       3.000000   \n",
       "75%    105524.250000      51.000000           4.000000       4.000000   \n",
       "max    140699.000000      60.000000           5.000000       5.000000   \n",
       "\n",
       "               CGPA  Study Satisfaction  Job Satisfaction  Work/Study Hours  \\\n",
       "count  27898.000000        27897.000000     112790.000000     140700.000000   \n",
       "mean       7.658636            2.944940          2.974404          6.252679   \n",
       "std        1.464466            1.360197          1.416078          3.853615   \n",
       "min        5.030000            1.000000          1.000000          0.000000   \n",
       "25%        6.290000            2.000000          2.000000          3.000000   \n",
       "50%        7.770000            3.000000          3.000000          6.000000   \n",
       "75%        8.920000            4.000000          4.000000         10.000000   \n",
       "max       10.000000            5.000000          5.000000         12.000000   \n",
       "\n",
       "       Financial Stress     Depression  \n",
       "count     140696.000000  140700.000000  \n",
       "mean           2.988983       0.181713  \n",
       "std            1.413633       0.385609  \n",
       "min            1.000000       0.000000  \n",
       "25%            2.000000       0.000000  \n",
       "50%            3.000000       0.000000  \n",
       "75%            4.000000       0.000000  \n",
       "max            5.000000       1.000000  "
      ]
     },
     "execution_count": 247,
     "metadata": {},
     "output_type": "execute_result"
    }
   ],
   "source": [
    "data.describe()"
   ]
  },
  {
   "cell_type": "code",
   "execution_count": 248,
   "metadata": {},
   "outputs": [
    {
     "data": {
      "text/html": [
       "<div>\n",
       "<style scoped>\n",
       "    .dataframe tbody tr th:only-of-type {\n",
       "        vertical-align: middle;\n",
       "    }\n",
       "\n",
       "    .dataframe tbody tr th {\n",
       "        vertical-align: top;\n",
       "    }\n",
       "\n",
       "    .dataframe thead th {\n",
       "        text-align: right;\n",
       "    }\n",
       "</style>\n",
       "<table border=\"1\" class=\"dataframe\">\n",
       "  <thead>\n",
       "    <tr style=\"text-align: right;\">\n",
       "      <th></th>\n",
       "      <th>Name</th>\n",
       "      <th>Gender</th>\n",
       "      <th>City</th>\n",
       "      <th>Working Professional or Student</th>\n",
       "      <th>Profession</th>\n",
       "      <th>Sleep Duration</th>\n",
       "      <th>Dietary Habits</th>\n",
       "      <th>Degree</th>\n",
       "      <th>Have you ever had suicidal thoughts ?</th>\n",
       "      <th>Family History of Mental Illness</th>\n",
       "    </tr>\n",
       "  </thead>\n",
       "  <tbody>\n",
       "    <tr>\n",
       "      <th>count</th>\n",
       "      <td>140700</td>\n",
       "      <td>140700</td>\n",
       "      <td>140700</td>\n",
       "      <td>140700</td>\n",
       "      <td>104070</td>\n",
       "      <td>140700</td>\n",
       "      <td>140696</td>\n",
       "      <td>140698</td>\n",
       "      <td>140700</td>\n",
       "      <td>140700</td>\n",
       "    </tr>\n",
       "    <tr>\n",
       "      <th>unique</th>\n",
       "      <td>422</td>\n",
       "      <td>2</td>\n",
       "      <td>98</td>\n",
       "      <td>2</td>\n",
       "      <td>64</td>\n",
       "      <td>36</td>\n",
       "      <td>23</td>\n",
       "      <td>115</td>\n",
       "      <td>2</td>\n",
       "      <td>2</td>\n",
       "    </tr>\n",
       "    <tr>\n",
       "      <th>top</th>\n",
       "      <td>Rohan</td>\n",
       "      <td>Male</td>\n",
       "      <td>Kalyan</td>\n",
       "      <td>Working Professional</td>\n",
       "      <td>Teacher</td>\n",
       "      <td>Less than 5 hours</td>\n",
       "      <td>Moderate</td>\n",
       "      <td>Class 12</td>\n",
       "      <td>No</td>\n",
       "      <td>No</td>\n",
       "    </tr>\n",
       "    <tr>\n",
       "      <th>freq</th>\n",
       "      <td>3178</td>\n",
       "      <td>77464</td>\n",
       "      <td>6591</td>\n",
       "      <td>112799</td>\n",
       "      <td>24906</td>\n",
       "      <td>38784</td>\n",
       "      <td>49705</td>\n",
       "      <td>14729</td>\n",
       "      <td>71138</td>\n",
       "      <td>70758</td>\n",
       "    </tr>\n",
       "  </tbody>\n",
       "</table>\n",
       "</div>"
      ],
      "text/plain": [
       "          Name  Gender    City Working Professional or Student Profession  \\\n",
       "count   140700  140700  140700                          140700     104070   \n",
       "unique     422       2      98                               2         64   \n",
       "top      Rohan    Male  Kalyan            Working Professional    Teacher   \n",
       "freq      3178   77464    6591                          112799      24906   \n",
       "\n",
       "           Sleep Duration Dietary Habits    Degree  \\\n",
       "count              140700         140696    140698   \n",
       "unique                 36             23       115   \n",
       "top     Less than 5 hours       Moderate  Class 12   \n",
       "freq                38784          49705     14729   \n",
       "\n",
       "       Have you ever had suicidal thoughts ? Family History of Mental Illness  \n",
       "count                                 140700                           140700  \n",
       "unique                                     2                                2  \n",
       "top                                       No                               No  \n",
       "freq                                   71138                            70758  "
      ]
     },
     "execution_count": 248,
     "metadata": {},
     "output_type": "execute_result"
    }
   ],
   "source": [
    "data.describe(include ='object')"
   ]
  },
  {
   "cell_type": "code",
   "execution_count": 249,
   "metadata": {},
   "outputs": [
    {
     "data": {
      "text/plain": [
       "id                                        0.000000\n",
       "Name                                      0.000000\n",
       "Gender                                    0.000000\n",
       "Age                                       0.000000\n",
       "City                                      0.000000\n",
       "Working Professional or Student           0.000000\n",
       "Profession                               26.034115\n",
       "Academic Pressure                        80.172708\n",
       "Work Pressure                            19.842217\n",
       "CGPA                                     80.171997\n",
       "Study Satisfaction                       80.172708\n",
       "Job Satisfaction                         19.836532\n",
       "Sleep Duration                            0.000000\n",
       "Dietary Habits                            0.002843\n",
       "Degree                                    0.001421\n",
       "Have you ever had suicidal thoughts ?     0.000000\n",
       "Work/Study Hours                          0.000000\n",
       "Financial Stress                          0.002843\n",
       "Family History of Mental Illness          0.000000\n",
       "Depression                                0.000000\n",
       "dtype: float64"
      ]
     },
     "execution_count": 249,
     "metadata": {},
     "output_type": "execute_result"
    }
   ],
   "source": [
    "data.isna().sum()*100 / data.shape[0] "
   ]
  },
  {
   "cell_type": "code",
   "execution_count": 250,
   "metadata": {},
   "outputs": [
    {
     "data": {
      "text/plain": [
       "100.00923951670221"
      ]
     },
     "execution_count": 250,
     "metadata": {},
     "output_type": "execute_result"
    }
   ],
   "source": [
    "data['Study Satisfaction'].isna().sum()*100 / data.shape[0] + data['Job Satisfaction'].isna().sum()*100 / data.shape[0]"
   ]
  },
  {
   "cell_type": "code",
   "execution_count": 251,
   "metadata": {},
   "outputs": [
    {
     "data": {
      "text/plain": [
       "100.01492537313433"
      ]
     },
     "execution_count": 251,
     "metadata": {},
     "output_type": "execute_result"
    }
   ],
   "source": [
    "data['Academic Pressure'].isna().sum()*100 / data.shape[0] + data['Work Pressure'].isna().sum()*100 / data.shape[0]"
   ]
  },
  {
   "cell_type": "code",
   "execution_count": 252,
   "metadata": {},
   "outputs": [
    {
     "data": {
      "text/html": [
       "<div>\n",
       "<style scoped>\n",
       "    .dataframe tbody tr th:only-of-type {\n",
       "        vertical-align: middle;\n",
       "    }\n",
       "\n",
       "    .dataframe tbody tr th {\n",
       "        vertical-align: top;\n",
       "    }\n",
       "\n",
       "    .dataframe thead th {\n",
       "        text-align: right;\n",
       "    }\n",
       "</style>\n",
       "<table border=\"1\" class=\"dataframe\">\n",
       "  <thead>\n",
       "    <tr style=\"text-align: right;\">\n",
       "      <th></th>\n",
       "      <th>id</th>\n",
       "      <th>Name</th>\n",
       "      <th>Gender</th>\n",
       "      <th>Age</th>\n",
       "      <th>City</th>\n",
       "      <th>Working Professional or Student</th>\n",
       "      <th>Profession</th>\n",
       "      <th>Academic Pressure</th>\n",
       "      <th>Work Pressure</th>\n",
       "      <th>CGPA</th>\n",
       "      <th>Study Satisfaction</th>\n",
       "      <th>Job Satisfaction</th>\n",
       "      <th>Sleep Duration</th>\n",
       "      <th>Dietary Habits</th>\n",
       "      <th>Degree</th>\n",
       "      <th>Have you ever had suicidal thoughts ?</th>\n",
       "      <th>Work/Study Hours</th>\n",
       "      <th>Financial Stress</th>\n",
       "      <th>Family History of Mental Illness</th>\n",
       "      <th>Depression</th>\n",
       "    </tr>\n",
       "  </thead>\n",
       "  <tbody>\n",
       "    <tr>\n",
       "      <th>15846</th>\n",
       "      <td>15846</td>\n",
       "      <td>Shrey</td>\n",
       "      <td>Male</td>\n",
       "      <td>53.0</td>\n",
       "      <td>Vasai-Virar</td>\n",
       "      <td>Working Professional</td>\n",
       "      <td>NaN</td>\n",
       "      <td>NaN</td>\n",
       "      <td>NaN</td>\n",
       "      <td>NaN</td>\n",
       "      <td>NaN</td>\n",
       "      <td>5.0</td>\n",
       "      <td>More than 8 hours</td>\n",
       "      <td>Unhealthy</td>\n",
       "      <td>Class 12</td>\n",
       "      <td>No</td>\n",
       "      <td>12.0</td>\n",
       "      <td>1.0</td>\n",
       "      <td>No</td>\n",
       "      <td>0</td>\n",
       "    </tr>\n",
       "    <tr>\n",
       "      <th>17549</th>\n",
       "      <td>17549</td>\n",
       "      <td>Tanya</td>\n",
       "      <td>Female</td>\n",
       "      <td>20.0</td>\n",
       "      <td>Patna</td>\n",
       "      <td>Student</td>\n",
       "      <td>NaN</td>\n",
       "      <td>NaN</td>\n",
       "      <td>NaN</td>\n",
       "      <td>5.55</td>\n",
       "      <td>NaN</td>\n",
       "      <td>NaN</td>\n",
       "      <td>5-6 hours</td>\n",
       "      <td>Moderate</td>\n",
       "      <td>Class 12</td>\n",
       "      <td>No</td>\n",
       "      <td>0.0</td>\n",
       "      <td>3.0</td>\n",
       "      <td>Yes</td>\n",
       "      <td>0</td>\n",
       "    </tr>\n",
       "    <tr>\n",
       "      <th>34694</th>\n",
       "      <td>34694</td>\n",
       "      <td>Kriti</td>\n",
       "      <td>Female</td>\n",
       "      <td>46.0</td>\n",
       "      <td>Meerut</td>\n",
       "      <td>Working Professional</td>\n",
       "      <td>NaN</td>\n",
       "      <td>NaN</td>\n",
       "      <td>NaN</td>\n",
       "      <td>NaN</td>\n",
       "      <td>NaN</td>\n",
       "      <td>NaN</td>\n",
       "      <td>5-6 hours</td>\n",
       "      <td>Moderate</td>\n",
       "      <td>Class 12</td>\n",
       "      <td>Yes</td>\n",
       "      <td>12.0</td>\n",
       "      <td>3.0</td>\n",
       "      <td>No</td>\n",
       "      <td>0</td>\n",
       "    </tr>\n",
       "    <tr>\n",
       "      <th>35612</th>\n",
       "      <td>35612</td>\n",
       "      <td>Siddhesh</td>\n",
       "      <td>Male</td>\n",
       "      <td>27.0</td>\n",
       "      <td>Vadodara</td>\n",
       "      <td>Working Professional</td>\n",
       "      <td>NaN</td>\n",
       "      <td>NaN</td>\n",
       "      <td>NaN</td>\n",
       "      <td>NaN</td>\n",
       "      <td>NaN</td>\n",
       "      <td>NaN</td>\n",
       "      <td>Less than 5 hours</td>\n",
       "      <td>Unhealthy</td>\n",
       "      <td>B.Pharm</td>\n",
       "      <td>No</td>\n",
       "      <td>11.0</td>\n",
       "      <td>3.0</td>\n",
       "      <td>No</td>\n",
       "      <td>1</td>\n",
       "    </tr>\n",
       "    <tr>\n",
       "      <th>57196</th>\n",
       "      <td>57196</td>\n",
       "      <td>Manvi</td>\n",
       "      <td>Female</td>\n",
       "      <td>20.0</td>\n",
       "      <td>Visakhapatnam</td>\n",
       "      <td>Working Professional</td>\n",
       "      <td>NaN</td>\n",
       "      <td>NaN</td>\n",
       "      <td>NaN</td>\n",
       "      <td>NaN</td>\n",
       "      <td>NaN</td>\n",
       "      <td>NaN</td>\n",
       "      <td>Less than 5 hours</td>\n",
       "      <td>Moderate</td>\n",
       "      <td>Class 12</td>\n",
       "      <td>No</td>\n",
       "      <td>0.0</td>\n",
       "      <td>4.0</td>\n",
       "      <td>Yes</td>\n",
       "      <td>1</td>\n",
       "    </tr>\n",
       "    <tr>\n",
       "      <th>60348</th>\n",
       "      <td>60348</td>\n",
       "      <td>Nishant</td>\n",
       "      <td>Male</td>\n",
       "      <td>29.0</td>\n",
       "      <td>Agra</td>\n",
       "      <td>Working Professional</td>\n",
       "      <td>NaN</td>\n",
       "      <td>NaN</td>\n",
       "      <td>NaN</td>\n",
       "      <td>9.72</td>\n",
       "      <td>2.0</td>\n",
       "      <td>NaN</td>\n",
       "      <td>5-6 hours</td>\n",
       "      <td>Moderate</td>\n",
       "      <td>B.Ed</td>\n",
       "      <td>No</td>\n",
       "      <td>7.0</td>\n",
       "      <td>2.0</td>\n",
       "      <td>Yes</td>\n",
       "      <td>0</td>\n",
       "    </tr>\n",
       "    <tr>\n",
       "      <th>70453</th>\n",
       "      <td>70453</td>\n",
       "      <td>Veda</td>\n",
       "      <td>Female</td>\n",
       "      <td>20.0</td>\n",
       "      <td>Ahmedabad</td>\n",
       "      <td>Student</td>\n",
       "      <td>NaN</td>\n",
       "      <td>NaN</td>\n",
       "      <td>NaN</td>\n",
       "      <td>NaN</td>\n",
       "      <td>NaN</td>\n",
       "      <td>2.0</td>\n",
       "      <td>Less than 5 hours</td>\n",
       "      <td>Moderate</td>\n",
       "      <td>Class 12</td>\n",
       "      <td>Yes</td>\n",
       "      <td>12.0</td>\n",
       "      <td>3.0</td>\n",
       "      <td>Yes</td>\n",
       "      <td>1</td>\n",
       "    </tr>\n",
       "    <tr>\n",
       "      <th>76104</th>\n",
       "      <td>76104</td>\n",
       "      <td>Vanya</td>\n",
       "      <td>Female</td>\n",
       "      <td>20.0</td>\n",
       "      <td>Nashik</td>\n",
       "      <td>Working Professional</td>\n",
       "      <td>NaN</td>\n",
       "      <td>NaN</td>\n",
       "      <td>NaN</td>\n",
       "      <td>NaN</td>\n",
       "      <td>NaN</td>\n",
       "      <td>1.0</td>\n",
       "      <td>7-8 hours</td>\n",
       "      <td>Moderate</td>\n",
       "      <td>Class 12</td>\n",
       "      <td>No</td>\n",
       "      <td>11.0</td>\n",
       "      <td>1.0</td>\n",
       "      <td>No</td>\n",
       "      <td>1</td>\n",
       "    </tr>\n",
       "    <tr>\n",
       "      <th>85126</th>\n",
       "      <td>85126</td>\n",
       "      <td>Monika</td>\n",
       "      <td>Female</td>\n",
       "      <td>27.0</td>\n",
       "      <td>Kanpur</td>\n",
       "      <td>Working Professional</td>\n",
       "      <td>Mechanical Engineer</td>\n",
       "      <td>NaN</td>\n",
       "      <td>NaN</td>\n",
       "      <td>NaN</td>\n",
       "      <td>NaN</td>\n",
       "      <td>5.0</td>\n",
       "      <td>5-6 hours</td>\n",
       "      <td>Healthy</td>\n",
       "      <td>BE</td>\n",
       "      <td>Yes</td>\n",
       "      <td>10.0</td>\n",
       "      <td>5.0</td>\n",
       "      <td>No</td>\n",
       "      <td>1</td>\n",
       "    </tr>\n",
       "    <tr>\n",
       "      <th>86606</th>\n",
       "      <td>86606</td>\n",
       "      <td>Tushar</td>\n",
       "      <td>Male</td>\n",
       "      <td>18.0</td>\n",
       "      <td>Thane</td>\n",
       "      <td>Working Professional</td>\n",
       "      <td>NaN</td>\n",
       "      <td>NaN</td>\n",
       "      <td>NaN</td>\n",
       "      <td>NaN</td>\n",
       "      <td>NaN</td>\n",
       "      <td>1.0</td>\n",
       "      <td>7-8 hours</td>\n",
       "      <td>Moderate</td>\n",
       "      <td>Class 12</td>\n",
       "      <td>Yes</td>\n",
       "      <td>10.0</td>\n",
       "      <td>3.0</td>\n",
       "      <td>No</td>\n",
       "      <td>1</td>\n",
       "    </tr>\n",
       "    <tr>\n",
       "      <th>92609</th>\n",
       "      <td>92609</td>\n",
       "      <td>Shruti</td>\n",
       "      <td>Female</td>\n",
       "      <td>51.0</td>\n",
       "      <td>Indore</td>\n",
       "      <td>Working Professional</td>\n",
       "      <td>NaN</td>\n",
       "      <td>NaN</td>\n",
       "      <td>NaN</td>\n",
       "      <td>NaN</td>\n",
       "      <td>NaN</td>\n",
       "      <td>2.0</td>\n",
       "      <td>7-8 hours</td>\n",
       "      <td>Healthy</td>\n",
       "      <td>Class 12</td>\n",
       "      <td>Yes</td>\n",
       "      <td>4.0</td>\n",
       "      <td>5.0</td>\n",
       "      <td>Yes</td>\n",
       "      <td>0</td>\n",
       "    </tr>\n",
       "    <tr>\n",
       "      <th>93213</th>\n",
       "      <td>93213</td>\n",
       "      <td>Anika</td>\n",
       "      <td>Female</td>\n",
       "      <td>23.0</td>\n",
       "      <td>Kanpur</td>\n",
       "      <td>Working Professional</td>\n",
       "      <td>NaN</td>\n",
       "      <td>NaN</td>\n",
       "      <td>NaN</td>\n",
       "      <td>NaN</td>\n",
       "      <td>NaN</td>\n",
       "      <td>4.0</td>\n",
       "      <td>More than 8 hours</td>\n",
       "      <td>Moderate</td>\n",
       "      <td>MSc</td>\n",
       "      <td>No</td>\n",
       "      <td>2.0</td>\n",
       "      <td>1.0</td>\n",
       "      <td>Yes</td>\n",
       "      <td>0</td>\n",
       "    </tr>\n",
       "    <tr>\n",
       "      <th>98446</th>\n",
       "      <td>98446</td>\n",
       "      <td>Ritika</td>\n",
       "      <td>Female</td>\n",
       "      <td>54.0</td>\n",
       "      <td>Surat</td>\n",
       "      <td>Working Professional</td>\n",
       "      <td>NaN</td>\n",
       "      <td>NaN</td>\n",
       "      <td>NaN</td>\n",
       "      <td>NaN</td>\n",
       "      <td>NaN</td>\n",
       "      <td>NaN</td>\n",
       "      <td>More than 8 hours</td>\n",
       "      <td>Moderate</td>\n",
       "      <td>Class 12</td>\n",
       "      <td>Yes</td>\n",
       "      <td>0.0</td>\n",
       "      <td>4.0</td>\n",
       "      <td>No</td>\n",
       "      <td>0</td>\n",
       "    </tr>\n",
       "    <tr>\n",
       "      <th>100868</th>\n",
       "      <td>100868</td>\n",
       "      <td>Harsha</td>\n",
       "      <td>Male</td>\n",
       "      <td>29.0</td>\n",
       "      <td>Nashik</td>\n",
       "      <td>Working Professional</td>\n",
       "      <td>NaN</td>\n",
       "      <td>NaN</td>\n",
       "      <td>NaN</td>\n",
       "      <td>NaN</td>\n",
       "      <td>NaN</td>\n",
       "      <td>NaN</td>\n",
       "      <td>More than 8 hours</td>\n",
       "      <td>Healthy</td>\n",
       "      <td>BHM</td>\n",
       "      <td>Yes</td>\n",
       "      <td>10.0</td>\n",
       "      <td>3.0</td>\n",
       "      <td>No</td>\n",
       "      <td>0</td>\n",
       "    </tr>\n",
       "    <tr>\n",
       "      <th>105773</th>\n",
       "      <td>105773</td>\n",
       "      <td>Anand</td>\n",
       "      <td>Male</td>\n",
       "      <td>18.0</td>\n",
       "      <td>Ahmedabad</td>\n",
       "      <td>Student</td>\n",
       "      <td>NaN</td>\n",
       "      <td>NaN</td>\n",
       "      <td>NaN</td>\n",
       "      <td>NaN</td>\n",
       "      <td>NaN</td>\n",
       "      <td>1.0</td>\n",
       "      <td>Less than 5 hours</td>\n",
       "      <td>Moderate</td>\n",
       "      <td>Class 12</td>\n",
       "      <td>Yes</td>\n",
       "      <td>9.0</td>\n",
       "      <td>5.0</td>\n",
       "      <td>No</td>\n",
       "      <td>1</td>\n",
       "    </tr>\n",
       "    <tr>\n",
       "      <th>122793</th>\n",
       "      <td>122793</td>\n",
       "      <td>Amit</td>\n",
       "      <td>Male</td>\n",
       "      <td>20.0</td>\n",
       "      <td>Pune</td>\n",
       "      <td>Working Professional</td>\n",
       "      <td>NaN</td>\n",
       "      <td>NaN</td>\n",
       "      <td>NaN</td>\n",
       "      <td>NaN</td>\n",
       "      <td>NaN</td>\n",
       "      <td>NaN</td>\n",
       "      <td>5-6 hours</td>\n",
       "      <td>Healthy</td>\n",
       "      <td>Class 12</td>\n",
       "      <td>No</td>\n",
       "      <td>0.0</td>\n",
       "      <td>5.0</td>\n",
       "      <td>No</td>\n",
       "      <td>0</td>\n",
       "    </tr>\n",
       "    <tr>\n",
       "      <th>122983</th>\n",
       "      <td>122983</td>\n",
       "      <td>Saanvi</td>\n",
       "      <td>Female</td>\n",
       "      <td>30.0</td>\n",
       "      <td>Ghaziabad</td>\n",
       "      <td>Student</td>\n",
       "      <td>NaN</td>\n",
       "      <td>NaN</td>\n",
       "      <td>NaN</td>\n",
       "      <td>5.47</td>\n",
       "      <td>2.0</td>\n",
       "      <td>NaN</td>\n",
       "      <td>Less than 5 hours</td>\n",
       "      <td>Unhealthy</td>\n",
       "      <td>B.Com</td>\n",
       "      <td>Yes</td>\n",
       "      <td>5.0</td>\n",
       "      <td>1.0</td>\n",
       "      <td>No</td>\n",
       "      <td>0</td>\n",
       "    </tr>\n",
       "    <tr>\n",
       "      <th>125384</th>\n",
       "      <td>125384</td>\n",
       "      <td>Harini</td>\n",
       "      <td>Female</td>\n",
       "      <td>18.0</td>\n",
       "      <td>Vadodara</td>\n",
       "      <td>Working Professional</td>\n",
       "      <td>NaN</td>\n",
       "      <td>NaN</td>\n",
       "      <td>NaN</td>\n",
       "      <td>NaN</td>\n",
       "      <td>NaN</td>\n",
       "      <td>4.0</td>\n",
       "      <td>7-8 hours</td>\n",
       "      <td>Healthy</td>\n",
       "      <td>Class 12</td>\n",
       "      <td>Yes</td>\n",
       "      <td>9.0</td>\n",
       "      <td>4.0</td>\n",
       "      <td>No</td>\n",
       "      <td>1</td>\n",
       "    </tr>\n",
       "    <tr>\n",
       "      <th>134154</th>\n",
       "      <td>134154</td>\n",
       "      <td>Siddharth</td>\n",
       "      <td>Male</td>\n",
       "      <td>34.0</td>\n",
       "      <td>Pune</td>\n",
       "      <td>Working Professional</td>\n",
       "      <td>NaN</td>\n",
       "      <td>NaN</td>\n",
       "      <td>NaN</td>\n",
       "      <td>NaN</td>\n",
       "      <td>NaN</td>\n",
       "      <td>4.0</td>\n",
       "      <td>5-6 hours</td>\n",
       "      <td>Moderate</td>\n",
       "      <td>Class 12</td>\n",
       "      <td>No</td>\n",
       "      <td>4.0</td>\n",
       "      <td>5.0</td>\n",
       "      <td>No</td>\n",
       "      <td>0</td>\n",
       "    </tr>\n",
       "    <tr>\n",
       "      <th>134830</th>\n",
       "      <td>134830</td>\n",
       "      <td>Aaradhya</td>\n",
       "      <td>Female</td>\n",
       "      <td>24.0</td>\n",
       "      <td>Meerut</td>\n",
       "      <td>Student</td>\n",
       "      <td>NaN</td>\n",
       "      <td>NaN</td>\n",
       "      <td>NaN</td>\n",
       "      <td>NaN</td>\n",
       "      <td>NaN</td>\n",
       "      <td>2.0</td>\n",
       "      <td>More than 8 hours</td>\n",
       "      <td>Unhealthy</td>\n",
       "      <td>Class 12</td>\n",
       "      <td>No</td>\n",
       "      <td>0.0</td>\n",
       "      <td>5.0</td>\n",
       "      <td>No</td>\n",
       "      <td>0</td>\n",
       "    </tr>\n",
       "    <tr>\n",
       "      <th>137013</th>\n",
       "      <td>137013</td>\n",
       "      <td>Vikram</td>\n",
       "      <td>Male</td>\n",
       "      <td>36.0</td>\n",
       "      <td>Varanasi</td>\n",
       "      <td>Student</td>\n",
       "      <td>NaN</td>\n",
       "      <td>NaN</td>\n",
       "      <td>NaN</td>\n",
       "      <td>8.54</td>\n",
       "      <td>3.0</td>\n",
       "      <td>NaN</td>\n",
       "      <td>More than 8 hours</td>\n",
       "      <td>Moderate</td>\n",
       "      <td>Class 12</td>\n",
       "      <td>Yes</td>\n",
       "      <td>8.0</td>\n",
       "      <td>5.0</td>\n",
       "      <td>Yes</td>\n",
       "      <td>1</td>\n",
       "    </tr>\n",
       "  </tbody>\n",
       "</table>\n",
       "</div>"
      ],
      "text/plain": [
       "            id       Name  Gender   Age           City  \\\n",
       "15846    15846      Shrey    Male  53.0    Vasai-Virar   \n",
       "17549    17549      Tanya  Female  20.0          Patna   \n",
       "34694    34694      Kriti  Female  46.0         Meerut   \n",
       "35612    35612   Siddhesh    Male  27.0       Vadodara   \n",
       "57196    57196      Manvi  Female  20.0  Visakhapatnam   \n",
       "60348    60348    Nishant    Male  29.0           Agra   \n",
       "70453    70453       Veda  Female  20.0      Ahmedabad   \n",
       "76104    76104      Vanya  Female  20.0         Nashik   \n",
       "85126    85126     Monika  Female  27.0         Kanpur   \n",
       "86606    86606     Tushar    Male  18.0          Thane   \n",
       "92609    92609     Shruti  Female  51.0         Indore   \n",
       "93213    93213      Anika  Female  23.0         Kanpur   \n",
       "98446    98446     Ritika  Female  54.0          Surat   \n",
       "100868  100868     Harsha    Male  29.0         Nashik   \n",
       "105773  105773      Anand    Male  18.0      Ahmedabad   \n",
       "122793  122793       Amit    Male  20.0           Pune   \n",
       "122983  122983     Saanvi  Female  30.0      Ghaziabad   \n",
       "125384  125384     Harini  Female  18.0       Vadodara   \n",
       "134154  134154  Siddharth    Male  34.0           Pune   \n",
       "134830  134830   Aaradhya  Female  24.0         Meerut   \n",
       "137013  137013     Vikram    Male  36.0       Varanasi   \n",
       "\n",
       "       Working Professional or Student           Profession  \\\n",
       "15846             Working Professional                  NaN   \n",
       "17549                          Student                  NaN   \n",
       "34694             Working Professional                  NaN   \n",
       "35612             Working Professional                  NaN   \n",
       "57196             Working Professional                  NaN   \n",
       "60348             Working Professional                  NaN   \n",
       "70453                          Student                  NaN   \n",
       "76104             Working Professional                  NaN   \n",
       "85126             Working Professional  Mechanical Engineer   \n",
       "86606             Working Professional                  NaN   \n",
       "92609             Working Professional                  NaN   \n",
       "93213             Working Professional                  NaN   \n",
       "98446             Working Professional                  NaN   \n",
       "100868            Working Professional                  NaN   \n",
       "105773                         Student                  NaN   \n",
       "122793            Working Professional                  NaN   \n",
       "122983                         Student                  NaN   \n",
       "125384            Working Professional                  NaN   \n",
       "134154            Working Professional                  NaN   \n",
       "134830                         Student                  NaN   \n",
       "137013                         Student                  NaN   \n",
       "\n",
       "        Academic Pressure  Work Pressure  CGPA  Study Satisfaction  \\\n",
       "15846                 NaN            NaN   NaN                 NaN   \n",
       "17549                 NaN            NaN  5.55                 NaN   \n",
       "34694                 NaN            NaN   NaN                 NaN   \n",
       "35612                 NaN            NaN   NaN                 NaN   \n",
       "57196                 NaN            NaN   NaN                 NaN   \n",
       "60348                 NaN            NaN  9.72                 2.0   \n",
       "70453                 NaN            NaN   NaN                 NaN   \n",
       "76104                 NaN            NaN   NaN                 NaN   \n",
       "85126                 NaN            NaN   NaN                 NaN   \n",
       "86606                 NaN            NaN   NaN                 NaN   \n",
       "92609                 NaN            NaN   NaN                 NaN   \n",
       "93213                 NaN            NaN   NaN                 NaN   \n",
       "98446                 NaN            NaN   NaN                 NaN   \n",
       "100868                NaN            NaN   NaN                 NaN   \n",
       "105773                NaN            NaN   NaN                 NaN   \n",
       "122793                NaN            NaN   NaN                 NaN   \n",
       "122983                NaN            NaN  5.47                 2.0   \n",
       "125384                NaN            NaN   NaN                 NaN   \n",
       "134154                NaN            NaN   NaN                 NaN   \n",
       "134830                NaN            NaN   NaN                 NaN   \n",
       "137013                NaN            NaN  8.54                 3.0   \n",
       "\n",
       "        Job Satisfaction     Sleep Duration Dietary Habits    Degree  \\\n",
       "15846                5.0  More than 8 hours      Unhealthy  Class 12   \n",
       "17549                NaN          5-6 hours       Moderate  Class 12   \n",
       "34694                NaN          5-6 hours       Moderate  Class 12   \n",
       "35612                NaN  Less than 5 hours      Unhealthy   B.Pharm   \n",
       "57196                NaN  Less than 5 hours       Moderate  Class 12   \n",
       "60348                NaN          5-6 hours       Moderate      B.Ed   \n",
       "70453                2.0  Less than 5 hours       Moderate  Class 12   \n",
       "76104                1.0          7-8 hours       Moderate  Class 12   \n",
       "85126                5.0          5-6 hours        Healthy        BE   \n",
       "86606                1.0          7-8 hours       Moderate  Class 12   \n",
       "92609                2.0          7-8 hours        Healthy  Class 12   \n",
       "93213                4.0  More than 8 hours       Moderate       MSc   \n",
       "98446                NaN  More than 8 hours       Moderate  Class 12   \n",
       "100868               NaN  More than 8 hours        Healthy       BHM   \n",
       "105773               1.0  Less than 5 hours       Moderate  Class 12   \n",
       "122793               NaN          5-6 hours        Healthy  Class 12   \n",
       "122983               NaN  Less than 5 hours      Unhealthy     B.Com   \n",
       "125384               4.0          7-8 hours        Healthy  Class 12   \n",
       "134154               4.0          5-6 hours       Moderate  Class 12   \n",
       "134830               2.0  More than 8 hours      Unhealthy  Class 12   \n",
       "137013               NaN  More than 8 hours       Moderate  Class 12   \n",
       "\n",
       "       Have you ever had suicidal thoughts ?  Work/Study Hours  \\\n",
       "15846                                     No              12.0   \n",
       "17549                                     No               0.0   \n",
       "34694                                    Yes              12.0   \n",
       "35612                                     No              11.0   \n",
       "57196                                     No               0.0   \n",
       "60348                                     No               7.0   \n",
       "70453                                    Yes              12.0   \n",
       "76104                                     No              11.0   \n",
       "85126                                    Yes              10.0   \n",
       "86606                                    Yes              10.0   \n",
       "92609                                    Yes               4.0   \n",
       "93213                                     No               2.0   \n",
       "98446                                    Yes               0.0   \n",
       "100868                                   Yes              10.0   \n",
       "105773                                   Yes               9.0   \n",
       "122793                                    No               0.0   \n",
       "122983                                   Yes               5.0   \n",
       "125384                                   Yes               9.0   \n",
       "134154                                    No               4.0   \n",
       "134830                                    No               0.0   \n",
       "137013                                   Yes               8.0   \n",
       "\n",
       "        Financial Stress Family History of Mental Illness  Depression  \n",
       "15846                1.0                               No           0  \n",
       "17549                3.0                              Yes           0  \n",
       "34694                3.0                               No           0  \n",
       "35612                3.0                               No           1  \n",
       "57196                4.0                              Yes           1  \n",
       "60348                2.0                              Yes           0  \n",
       "70453                3.0                              Yes           1  \n",
       "76104                1.0                               No           1  \n",
       "85126                5.0                               No           1  \n",
       "86606                3.0                               No           1  \n",
       "92609                5.0                              Yes           0  \n",
       "93213                1.0                              Yes           0  \n",
       "98446                4.0                               No           0  \n",
       "100868               3.0                               No           0  \n",
       "105773               5.0                               No           1  \n",
       "122793               5.0                               No           0  \n",
       "122983               1.0                               No           0  \n",
       "125384               4.0                               No           1  \n",
       "134154               5.0                               No           0  \n",
       "134830               5.0                               No           0  \n",
       "137013               5.0                              Yes           1  "
      ]
     },
     "execution_count": 252,
     "metadata": {},
     "output_type": "execute_result"
    }
   ],
   "source": [
    "data[ (data['Academic Pressure'].isna()) & (data['Work Pressure'].isna()) ]\n"
   ]
  },
  {
   "cell_type": "code",
   "execution_count": 253,
   "metadata": {},
   "outputs": [
    {
     "data": {
      "text/plain": [
       "0"
      ]
     },
     "execution_count": 253,
     "metadata": {},
     "output_type": "execute_result"
    }
   ],
   "source": [
    "# missing values per row\n",
    "((data.isna().sum(axis=1)  * 100 / data.shape[1]) > 70).sum()"
   ]
  },
  {
   "cell_type": "code",
   "execution_count": 254,
   "metadata": {},
   "outputs": [
    {
     "name": "stdout",
     "output_type": "stream",
     "text": [
      "----------\n",
      "Name\n",
      "Rohan       3178\n",
      "Aarav       2336\n",
      "Rupak       2176\n",
      "Aaradhya    2045\n",
      "Anvi        2035\n",
      "            ... \n",
      "Anhil          1\n",
      "Rieta          1\n",
      "Zahra          1\n",
      "Jathesh        1\n",
      "Aarun          1\n",
      "Name: count, Length: 422, dtype: int64\n",
      "----------\n",
      "Gender\n",
      "Male      77464\n",
      "Female    63236\n",
      "Name: count, dtype: int64\n",
      "----------\n",
      "City\n",
      "Kalyan         6591\n",
      "Patna          5924\n",
      "Vasai-Virar    5765\n",
      "Kolkata        5689\n",
      "Ahmedabad      5613\n",
      "               ... \n",
      "Shrey             1\n",
      "Ivaan             1\n",
      "Vaanya            1\n",
      "Gaurav            1\n",
      "Unirar            1\n",
      "Name: count, Length: 98, dtype: int64\n",
      "----------\n",
      "Working Professional or Student\n",
      "Working Professional    112799\n",
      "Student                  27901\n",
      "Name: count, dtype: int64\n",
      "----------\n",
      "Profession\n",
      "Teacher           24906\n",
      "Content Writer     7814\n",
      "Architect          4370\n",
      "Consultant         4229\n",
      "HR Manager         4022\n",
      "                  ...  \n",
      "BBA                   1\n",
      "City Manager          1\n",
      "FamilyVirar           1\n",
      "B.Com                 1\n",
      "Yuvraj                1\n",
      "Name: count, Length: 64, dtype: int64\n",
      "----------\n",
      "Sleep Duration\n",
      "Less than 5 hours    38784\n",
      "7-8 hours            36969\n",
      "More than 8 hours    32726\n",
      "5-6 hours            32142\n",
      "3-4 hours               12\n",
      "6-7 hours                8\n",
      "4-5 hours                7\n",
      "2-3 hours                5\n",
      "4-6 hours                5\n",
      "6-8 hours                4\n",
      "1-6 hours                4\n",
      "No                       4\n",
      "9-11 hours               2\n",
      "10-11 hours              2\n",
      "Sleep_Duration           2\n",
      "Unhealthy                2\n",
      "45                       2\n",
      "8-9 hours                2\n",
      "10-6 hours               1\n",
      "9-5                      1\n",
      "45-48 hours              1\n",
      "3-6 hours                1\n",
      "Work_Study_Hours         1\n",
      "49 hours                 1\n",
      "than 5 hours             1\n",
      "Pune                     1\n",
      "9-6 hours                1\n",
      "8 hours                  1\n",
      "35-36 hours              1\n",
      "Indore                   1\n",
      "1-3 hours                1\n",
      "55-66 hours              1\n",
      "Moderate                 1\n",
      "40-45 hours              1\n",
      "1-2 hours                1\n",
      "9-5 hours                1\n",
      "Name: count, dtype: int64\n",
      "----------\n",
      "Dietary Habits\n",
      "Moderate             49705\n",
      "Unhealthy            46227\n",
      "Healthy              44741\n",
      "Yes                      2\n",
      "No                       2\n",
      "More Healthy             2\n",
      "No Healthy               1\n",
      "Class 12                 1\n",
      "Indoor                   1\n",
      "Male                     1\n",
      "Vegas                    1\n",
      "M.Tech                   1\n",
      "Less Healthy             1\n",
      "1.0                      1\n",
      "Electrician              1\n",
      "Hormonal                 1\n",
      "Mihir                    1\n",
      "Less than Healthy        1\n",
      "3                        1\n",
      "Gender                   1\n",
      "BSc                      1\n",
      "Pratham                  1\n",
      "2                        1\n",
      "Name: count, dtype: int64\n",
      "----------\n",
      "Degree\n",
      "Class 12    14729\n",
      "B.Ed        11691\n",
      "B.Arch       8742\n",
      "B.Com        8113\n",
      "B.Pharm      5856\n",
      "            ...  \n",
      "Vivaan          1\n",
      "MTech           1\n",
      "29              1\n",
      "LLCom           1\n",
      "Advait          1\n",
      "Name: count, Length: 115, dtype: int64\n",
      "----------\n",
      "Have you ever had suicidal thoughts ?\n",
      "No     71138\n",
      "Yes    69562\n",
      "Name: count, dtype: int64\n",
      "----------\n",
      "Family History of Mental Illness\n",
      "No     70758\n",
      "Yes    69942\n",
      "Name: count, dtype: int64\n"
     ]
    }
   ],
   "source": [
    "for i in data.select_dtypes(include='object').columns:\n",
    "    print('----------')\n",
    "    print(data[i].value_counts())"
   ]
  },
  {
   "cell_type": "code",
   "execution_count": 255,
   "metadata": {},
   "outputs": [
    {
     "data": {
      "image/png": "[encoded data removed]",
      "text/plain": [
       "<Figure size 640x480 with 1 Axes>"
      ]
     },
     "metadata": {},
     "output_type": "display_data"
    },
    {
     "data": {
      "image/png": "[encoded data removed]",
      "text/plain": [
       "<Figure size 640x480 with 1 Axes>"
      ]
     },
     "metadata": {},
     "output_type": "display_data"
    },
    {
     "data": {
      "image/png": "[encoded data removed]",
      "text/plain": [
       "<Figure size 640x480 with 1 Axes>"
      ]
     },
     "metadata": {},
     "output_type": "display_data"
    },
    {
     "data": {
      "image/png": "[encoded data removed]",
      "text/plain": [
       "<Figure size 640x480 with 1 Axes>"
      ]
     },
     "metadata": {},
     "output_type": "display_data"
    },
    {
     "data": {
      "image/png": "[encoded data removed]",
      "text/plain": [
       "<Figure size 640x480 with 1 Axes>"
      ]
     },
     "metadata": {},
     "output_type": "display_data"
    },
    {
     "data": {
      "image/png": "[encoded data removed]",
      "text/plain": [
       "<Figure size 640x480 with 1 Axes>"
      ]
     },
     "metadata": {},
     "output_type": "display_data"
    },
    {
     "data": {
      "image/png": "[encoded data removed]",
      "text/plain": [
       "<Figure size 640x480 with 1 Axes>"
      ]
     },
     "metadata": {},
     "output_type": "display_data"
    },
    {
     "data": {
      "image/png": "[encoded data removed]",
      "text/plain": [
       "<Figure size 640x480 with 1 Axes>"
      ]
     },
     "metadata": {},
     "output_type": "display_data"
    },
    {
     "data": {
      "image/png": "[encoded data removed]",
      "text/plain": [
       "<Figure size 640x480 with 1 Axes>"
      ]
     },
     "metadata": {},
     "output_type": "display_data"
    },
    {
     "data": {
      "image/png": "[encoded data removed]",
      "text/plain": [
       "<Figure size 640x480 with 1 Axes>"
      ]
     },
     "metadata": {},
     "output_type": "display_data"
    }
   ],
   "source": [
    "import seaborn as sns\n",
    "import matplotlib.pyplot as plt\n",
    "for i in data.select_dtypes(include='number').columns:\n",
    "    sns.boxplot(data = data, x = i )\n",
    "    plt.show()"
   ]
  },
  {
   "cell_type": "code",
   "execution_count": 256,
   "metadata": {},
   "outputs": [
    {
     "name": "stdout",
     "output_type": "stream",
     "text": [
      "115133\n",
      "25567\n"
     ]
    }
   ],
   "source": [
    "print( (data['Depression'] == 0).sum())\n",
    "print((data['Depression'] == 1).sum())"
   ]
  },
  {
   "cell_type": "code",
   "execution_count": 257,
   "metadata": {},
   "outputs": [
    {
     "data": {
      "text/html": [
       "<div>\n",
       "<style scoped>\n",
       "    .dataframe tbody tr th:only-of-type {\n",
       "        vertical-align: middle;\n",
       "    }\n",
       "\n",
       "    .dataframe tbody tr th {\n",
       "        vertical-align: top;\n",
       "    }\n",
       "\n",
       "    .dataframe thead th {\n",
       "        text-align: right;\n",
       "    }\n",
       "</style>\n",
       "<table border=\"1\" class=\"dataframe\">\n",
       "  <thead>\n",
       "    <tr style=\"text-align: right;\">\n",
       "      <th></th>\n",
       "      <th>id</th>\n",
       "      <th>Age</th>\n",
       "      <th>Academic Pressure</th>\n",
       "      <th>Work Pressure</th>\n",
       "      <th>CGPA</th>\n",
       "      <th>Study Satisfaction</th>\n",
       "      <th>Job Satisfaction</th>\n",
       "      <th>Work/Study Hours</th>\n",
       "      <th>Financial Stress</th>\n",
       "      <th>Depression</th>\n",
       "    </tr>\n",
       "  </thead>\n",
       "  <tbody>\n",
       "    <tr>\n",
       "      <th>id</th>\n",
       "      <td>1.000000</td>\n",
       "      <td>0.001850</td>\n",
       "      <td>0.005597</td>\n",
       "      <td>0.003086</td>\n",
       "      <td>-0.011869</td>\n",
       "      <td>0.007824</td>\n",
       "      <td>0.002774</td>\n",
       "      <td>0.002359</td>\n",
       "      <td>-0.000340</td>\n",
       "      <td>0.003944</td>\n",
       "    </tr>\n",
       "    <tr>\n",
       "      <th>Age</th>\n",
       "      <td>0.001850</td>\n",
       "      <td>1.000000</td>\n",
       "      <td>-0.075956</td>\n",
       "      <td>-0.098924</td>\n",
       "      <td>0.005129</td>\n",
       "      <td>0.008862</td>\n",
       "      <td>0.030793</td>\n",
       "      <td>-0.118356</td>\n",
       "      <td>-0.083589</td>\n",
       "      <td>-0.564671</td>\n",
       "    </tr>\n",
       "    <tr>\n",
       "      <th>Academic Pressure</th>\n",
       "      <td>0.005597</td>\n",
       "      <td>-0.075956</td>\n",
       "      <td>1.000000</td>\n",
       "      <td>NaN</td>\n",
       "      <td>-0.025195</td>\n",
       "      <td>-0.112228</td>\n",
       "      <td>-1.000000</td>\n",
       "      <td>0.095650</td>\n",
       "      <td>0.152105</td>\n",
       "      <td>0.475037</td>\n",
       "    </tr>\n",
       "    <tr>\n",
       "      <th>Work Pressure</th>\n",
       "      <td>0.003086</td>\n",
       "      <td>-0.098924</td>\n",
       "      <td>NaN</td>\n",
       "      <td>1.000000</td>\n",
       "      <td>NaN</td>\n",
       "      <td>NaN</td>\n",
       "      <td>-0.036958</td>\n",
       "      <td>-0.002808</td>\n",
       "      <td>0.024412</td>\n",
       "      <td>0.216634</td>\n",
       "    </tr>\n",
       "    <tr>\n",
       "      <th>CGPA</th>\n",
       "      <td>-0.011869</td>\n",
       "      <td>0.005129</td>\n",
       "      <td>-0.025195</td>\n",
       "      <td>NaN</td>\n",
       "      <td>1.000000</td>\n",
       "      <td>-0.047078</td>\n",
       "      <td>1.000000</td>\n",
       "      <td>0.002875</td>\n",
       "      <td>0.006398</td>\n",
       "      <td>0.021729</td>\n",
       "    </tr>\n",
       "    <tr>\n",
       "      <th>Study Satisfaction</th>\n",
       "      <td>0.007824</td>\n",
       "      <td>0.008862</td>\n",
       "      <td>-0.112228</td>\n",
       "      <td>NaN</td>\n",
       "      <td>-0.047078</td>\n",
       "      <td>1.000000</td>\n",
       "      <td>-1.000000</td>\n",
       "      <td>-0.036934</td>\n",
       "      <td>-0.065001</td>\n",
       "      <td>-0.168014</td>\n",
       "    </tr>\n",
       "    <tr>\n",
       "      <th>Job Satisfaction</th>\n",
       "      <td>0.002774</td>\n",
       "      <td>0.030793</td>\n",
       "      <td>-1.000000</td>\n",
       "      <td>-0.036958</td>\n",
       "      <td>1.000000</td>\n",
       "      <td>-1.000000</td>\n",
       "      <td>1.000000</td>\n",
       "      <td>-0.029227</td>\n",
       "      <td>-0.029160</td>\n",
       "      <td>-0.168543</td>\n",
       "    </tr>\n",
       "    <tr>\n",
       "      <th>Work/Study Hours</th>\n",
       "      <td>0.002359</td>\n",
       "      <td>-0.118356</td>\n",
       "      <td>0.095650</td>\n",
       "      <td>-0.002808</td>\n",
       "      <td>0.002875</td>\n",
       "      <td>-0.036934</td>\n",
       "      <td>-0.029227</td>\n",
       "      <td>1.000000</td>\n",
       "      <td>0.036134</td>\n",
       "      <td>0.191746</td>\n",
       "    </tr>\n",
       "    <tr>\n",
       "      <th>Financial Stress</th>\n",
       "      <td>-0.000340</td>\n",
       "      <td>-0.083589</td>\n",
       "      <td>0.152105</td>\n",
       "      <td>0.024412</td>\n",
       "      <td>0.006398</td>\n",
       "      <td>-0.065001</td>\n",
       "      <td>-0.029160</td>\n",
       "      <td>0.036134</td>\n",
       "      <td>1.000000</td>\n",
       "      <td>0.227237</td>\n",
       "    </tr>\n",
       "    <tr>\n",
       "      <th>Depression</th>\n",
       "      <td>0.003944</td>\n",
       "      <td>-0.564671</td>\n",
       "      <td>0.475037</td>\n",
       "      <td>0.216634</td>\n",
       "      <td>0.021729</td>\n",
       "      <td>-0.168014</td>\n",
       "      <td>-0.168543</td>\n",
       "      <td>0.191746</td>\n",
       "      <td>0.227237</td>\n",
       "      <td>1.000000</td>\n",
       "    </tr>\n",
       "  </tbody>\n",
       "</table>\n",
       "</div>"
      ],
      "text/plain": [
       "                          id       Age  Academic Pressure  Work Pressure  \\\n",
       "id                  1.000000  0.001850           0.005597       0.003086   \n",
       "Age                 0.001850  1.000000          -0.075956      -0.098924   \n",
       "Academic Pressure   0.005597 -0.075956           1.000000            NaN   \n",
       "Work Pressure       0.003086 -0.098924                NaN       1.000000   \n",
       "CGPA               -0.011869  0.005129          -0.025195            NaN   \n",
       "Study Satisfaction  0.007824  0.008862          -0.112228            NaN   \n",
       "Job Satisfaction    0.002774  0.030793          -1.000000      -0.036958   \n",
       "Work/Study Hours    0.002359 -0.118356           0.095650      -0.002808   \n",
       "Financial Stress   -0.000340 -0.083589           0.152105       0.024412   \n",
       "Depression          0.003944 -0.564671           0.475037       0.216634   \n",
       "\n",
       "                        CGPA  Study Satisfaction  Job Satisfaction  \\\n",
       "id                 -0.011869            0.007824          0.002774   \n",
       "Age                 0.005129            0.008862          0.030793   \n",
       "Academic Pressure  -0.025195           -0.112228         -1.000000   \n",
       "Work Pressure            NaN                 NaN         -0.036958   \n",
       "CGPA                1.000000           -0.047078          1.000000   \n",
       "Study Satisfaction -0.047078            1.000000         -1.000000   \n",
       "Job Satisfaction    1.000000           -1.000000          1.000000   \n",
       "Work/Study Hours    0.002875           -0.036934         -0.029227   \n",
       "Financial Stress    0.006398           -0.065001         -0.029160   \n",
       "Depression          0.021729           -0.168014         -0.168543   \n",
       "\n",
       "                    Work/Study Hours  Financial Stress  Depression  \n",
       "id                          0.002359         -0.000340    0.003944  \n",
       "Age                        -0.118356         -0.083589   -0.564671  \n",
       "Academic Pressure           0.095650          0.152105    0.475037  \n",
       "Work Pressure              -0.002808          0.024412    0.216634  \n",
       "CGPA                        0.002875          0.006398    0.021729  \n",
       "Study Satisfaction         -0.036934         -0.065001   -0.168014  \n",
       "Job Satisfaction           -0.029227         -0.029160   -0.168543  \n",
       "Work/Study Hours            1.000000          0.036134    0.191746  \n",
       "Financial Stress            0.036134          1.000000    0.227237  \n",
       "Depression                  0.191746          0.227237    1.000000  "
      ]
     },
     "execution_count": 257,
     "metadata": {},
     "output_type": "execute_result"
    }
   ],
   "source": [
    "data.select_dtypes(include='number').corr()"
   ]
  },
  {
   "cell_type": "markdown",
   "metadata": {},
   "source": [
    "# <center>------------- Data Preprocessing  -------------</center>"
   ]
  },
  {
   "cell_type": "markdown",
   "metadata": {},
   "source": [
    "## Mising values treatment"
   ]
  },
  {
   "cell_type": "code",
   "execution_count": 258,
   "metadata": {},
   "outputs": [
    {
     "data": {
      "text/plain": [
       "id                                            0\n",
       "Name                                          0\n",
       "Gender                                        0\n",
       "Age                                           0\n",
       "City                                          0\n",
       "Working Professional or Student               0\n",
       "Profession                                36630\n",
       "Academic Pressure                        112803\n",
       "Work Pressure                             27918\n",
       "CGPA                                     112802\n",
       "Study Satisfaction                       112803\n",
       "Job Satisfaction                          27910\n",
       "Sleep Duration                                0\n",
       "Dietary Habits                                4\n",
       "Degree                                        2\n",
       "Have you ever had suicidal thoughts ?         0\n",
       "Work/Study Hours                              0\n",
       "Financial Stress                              4\n",
       "Family History of Mental Illness              0\n",
       "Depression                                    0\n",
       "dtype: int64"
      ]
     },
     "execution_count": 258,
     "metadata": {},
     "output_type": "execute_result"
    }
   ],
   "source": [
    "data.isna().sum()"
   ]
  },
  {
   "cell_type": "code",
   "execution_count": 259,
   "metadata": {},
   "outputs": [],
   "source": [
    "#Creating a new column to contain the the  Acdemic and Work presure \n",
    "data['Pressure'] = np.where(data['Working Professional or Student'] == 'Student', data['Academic Pressure'], data['Work Pressure']) "
   ]
  },
  {
   "cell_type": "code",
   "execution_count": 260,
   "metadata": {},
   "outputs": [
    {
     "data": {
      "text/plain": [
       "29"
      ]
     },
     "execution_count": 260,
     "metadata": {},
     "output_type": "execute_result"
    }
   ],
   "source": [
    "data['Pressure'].isna().sum()"
   ]
  },
  {
   "cell_type": "code",
   "execution_count": 261,
   "metadata": {},
   "outputs": [
    {
     "data": {
      "text/plain": [
       "0"
      ]
     },
     "execution_count": 261,
     "metadata": {},
     "output_type": "execute_result"
    }
   ],
   "source": [
    "data['Pressure'].fillna(data['Pressure'].median(), inplace=True)\n",
    "data['Pressure'].isna().sum()"
   ]
  },
  {
   "cell_type": "code",
   "execution_count": 262,
   "metadata": {},
   "outputs": [],
   "source": [
    "#We will do the same for the Study and Job Satisfaction\n",
    "data['Satisfaction'] = np.where(data['Working Professional or Student'] == 'Student', data['Study Satisfaction'], data['Job Satisfaction']) "
   ]
  },
  {
   "cell_type": "code",
   "execution_count": 263,
   "metadata": {},
   "outputs": [
    {
     "data": {
      "text/plain": [
       "27"
      ]
     },
     "execution_count": 263,
     "metadata": {},
     "output_type": "execute_result"
    }
   ],
   "source": [
    "data['Satisfaction'].isna().sum()"
   ]
  },
  {
   "cell_type": "code",
   "execution_count": 264,
   "metadata": {},
   "outputs": [
    {
     "data": {
      "text/plain": [
       "0"
      ]
     },
     "execution_count": 264,
     "metadata": {},
     "output_type": "execute_result"
    }
   ],
   "source": [
    "data['Satisfaction'].fillna(data['Satisfaction'].median(), inplace=True)\n",
    "data['Satisfaction'].isna().sum()"
   ]
  },
  {
   "cell_type": "code",
   "execution_count": 265,
   "metadata": {},
   "outputs": [
    {
     "name": "stdout",
     "output_type": "stream",
     "text": [
      "Cramér's V: 0.11696420377630205\n"
     ]
    }
   ],
   "source": [
    "#the influence of a categorical column on the target column\n",
    "from scipy.stats import chi2_contingency\n",
    "def cramers_v(x, y):\n",
    "    contingency_table = pd.crosstab(x, y)\n",
    "    chi2 = chi2_contingency(contingency_table)[0]\n",
    "    n = contingency_table.sum().sum()\n",
    "    r, k = contingency_table.shape\n",
    "    return np.sqrt(chi2 / (n * (min(r, k) - 1)))\n",
    "\n",
    "cramers = cramers_v(data['Profession'], data['Depression'])\n",
    "print(\"Cramér's V:\", cramers)"
   ]
  },
  {
   "cell_type": "code",
   "execution_count": 266,
   "metadata": {},
   "outputs": [
    {
     "data": {
      "text/plain": [
       "0"
      ]
     },
     "execution_count": 266,
     "metadata": {},
     "output_type": "execute_result"
    }
   ],
   "source": [
    "data['Financial Stress'].fillna(data['Financial Stress'].median(), inplace=True)\n",
    "data['Financial Stress'].isna().sum()\n"
   ]
  },
  {
   "cell_type": "code",
   "execution_count": 267,
   "metadata": {},
   "outputs": [
    {
     "data": {
      "text/plain": [
       "array(['BHM', 'LLB', 'B.Pharm', 'BBA', 'MCA', 'MD', 'BSc', 'ME', 'B.Arch',\n",
       "       'BCA', 'BE', 'MA', 'B.Ed', 'B.Com', 'MBA', 'M.Com', 'MHM', 'BA',\n",
       "       'Class 12', 'M.Tech', 'PhD', 'M.Ed', 'MSc', 'B.Tech', 'LLM',\n",
       "       'MBBS', 'M.Pharm', 'UX/UI Designer', 'MPA', 'BH', 'Nalini', 'BEd',\n",
       "       'B.Sc', 'Veda', 'Bhopal', 'S.Tech', 'Degree', '20', 'Class 11',\n",
       "       'H_Pharm', 'M', 'P.Com', 'BPharm', 'Business Analyst', 'M.Arch',\n",
       "       'LL.Com', 'Data Scientist', 'MPharm', 'L.Ed', 'P.Pharm', 'Kalyan',\n",
       "       'Unite', 'BArch', 'HR Manager', 'Badhya', 'S.Pharm', 'LLBA',\n",
       "       'Vrinda', 'M. Business Analyst', 'Bhavesh', '0', 'LLCom', '29',\n",
       "       'MTech', 'Vivaan', 'BPA', 'Plumber', '5.61', 'Brit', 'B.03',\n",
       "       'Ritik', '5.56', 'MEd', 'B', 'B BA', '7.06', 'B.B.Arch', 'ACA',\n",
       "       'Brithika', 'CGPA', '24', 'M_Tech', 'Pihu', 'BB', 'Jhanvi',\n",
       "       'LLTech', 'Aarav', 'Entrepreneur', '8.56', 'LHM', 'Lata', 'S.Arch',\n",
       "       'Marsh', 'HCA', '5.88', 'B.Student', 'LL B.Ed', 'M.S', 'Navya',\n",
       "       'Mahika', nan, 'K.Ed', 'B.3.79', 'Mthanya', 'Working Professional',\n",
       "       'Esha', 'LLS', 'LLEd', 'E.Tech', 'Doctor', 'N.Pharm', 'LCA',\n",
       "       'B B.Com', 'RCA', 'Mihir', 'Advait'], dtype=object)"
      ]
     },
     "execution_count": 267,
     "metadata": {},
     "output_type": "execute_result"
    }
   ],
   "source": [
    "data['Degree'].unique()"
   ]
  },
  {
   "cell_type": "markdown",
   "metadata": {},
   "source": [
    "**==>We decide to simplify and categorize data by mapping specific values into smaller groups. and We will be doing the same for all the columns with broader groups**"
   ]
  },
  {
   "cell_type": "code",
   "execution_count": null,
   "metadata": {},
   "outputs": [
    {
     "name": "stdout",
     "output_type": "stream",
     "text": [
      "Degree\n",
      "Undergraduate    66393\n",
      "Postgraduate     49551\n",
      "Other            14753\n",
      "Doctoral          3103\n",
      "Name: count, dtype: int64\n"
     ]
    }
   ],
   "source": [
    "import numpy as np\n",
    "\n",
    "# Mapping for regrouping\n",
    "degree_mapping = {\n",
    "    # Undergraduate\n",
    "    'BHM': 'Undergraduate', 'LLB': 'Undergraduate', 'B.Pharm': 'Undergraduate',\n",
    "    'BBA': 'Undergraduate', 'BCA': 'Undergraduate', 'BE': 'Undergraduate',\n",
    "    'B.Arch': 'Undergraduate', 'BSc': 'Undergraduate', 'B.Com': 'Undergraduate',\n",
    "    'B.Tech': 'Undergraduate', 'B.Ed': 'Undergraduate', 'B.Sc': 'Undergraduate',\n",
    "    'BPharm': 'Undergraduate', 'BPA': 'Undergraduate', 'BArch': 'Undergraduate',\n",
    "    'B BA': 'Undergraduate', 'BB': 'Undergraduate', 'B.B.Arch': 'Undergraduate',\n",
    "    'B.Student': 'Undergraduate', 'B B.Com': 'Undergraduate',\n",
    "\n",
    "    # Postgraduate\n",
    "    'MCA': 'Postgraduate', 'MD': 'Postgraduate', 'MBA': 'Postgraduate',\n",
    "    'ME': 'Postgraduate', 'M.Com': 'Postgraduate', 'MHM': 'Postgraduate',\n",
    "    'MA': 'Postgraduate', 'M.Tech': 'Postgraduate', 'M.Ed': 'Postgraduate',\n",
    "    'MSc': 'Postgraduate', 'LLM': 'Postgraduate', 'M.Pharm': 'Postgraduate',\n",
    "    'M.Arch': 'Postgraduate', 'MPharm': 'Postgraduate', 'M. Business Analyst': 'Postgraduate',\n",
    "    'MEd': 'Postgraduate', 'M.S': 'Postgraduate', 'M_Tech': 'Postgraduate',\n",
    "\n",
    "    # Doctoral\n",
    "    'PhD': 'Doctoral',\n",
    "\n",
    "    # Other\n",
    "    'Class 12': 'Other', 'Class 11': 'Other', \n",
    "    'Plumber': 'Other', 'Entrepreneur': 'Other',\n",
    "    'UX/UI Designer': 'Other', 'Business Analyst': 'Other',\n",
    "    'HR Manager': 'Other', 'Doctor': 'Other', 'Working Professional': 'Other',\n",
    "    'Nalini': 'Other', 'Veda': 'Other', 'Bhopal': 'Other',\n",
    "    'Brit': 'Other', 'Ritik': 'Other', '5.61': 'Other', \n",
    "    '5.56': 'Other', '7.06': 'Other', '8.56': 'Other', \n",
    "    np.nan: 'Other'\n",
    "}\n",
    "\n",
    "data['Degree'] = data['Degree'].map(degree_mapping)\n",
    "print(data['Degree'].value_counts())\n"
   ]
  },
  {
   "cell_type": "code",
   "execution_count": 269,
   "metadata": {},
   "outputs": [
    {
     "data": {
      "text/plain": [
       "0"
      ]
     },
     "execution_count": 269,
     "metadata": {},
     "output_type": "execute_result"
    }
   ],
   "source": [
    "data['Degree'].fillna(\"Undergraduate\", inplace = True)\n",
    "data['Degree'].isna().sum()"
   ]
  },
  {
   "cell_type": "code",
   "execution_count": 270,
   "metadata": {},
   "outputs": [
    {
     "data": {
      "text/plain": [
       "array(['Healthy', 'Unhealthy', 'Moderate', 'Yes', 'Pratham', 'BSc',\n",
       "       'Gender', '3', 'More Healthy', 'Less than Healthy', 'Mihir', '1.0',\n",
       "       'Hormonal', 'Electrician', nan, 'No Healthy', 'Less Healthy',\n",
       "       'M.Tech', 'Vegas', 'No', 'Male', 'Indoor', 'Class 12', '2'],\n",
       "      dtype=object)"
      ]
     },
     "execution_count": 270,
     "metadata": {},
     "output_type": "execute_result"
    }
   ],
   "source": [
    "data['Dietary Habits'].unique()"
   ]
  },
  {
   "cell_type": "code",
   "execution_count": 271,
   "metadata": {},
   "outputs": [
    {
     "name": "stdout",
     "output_type": "stream",
     "text": [
      "Dietary Habits\n",
      "Moderate     49707\n",
      "Unhealthy    46233\n",
      "Healthy      44746\n",
      "Unknown         13\n",
      "Name: count, dtype: int64\n"
     ]
    }
   ],
   "source": [
    "import numpy as np\n",
    "\n",
    "# Define the mapping dictionary\n",
    "value_mapping = {\n",
    "    # Health Status\n",
    "    'Healthy': 'Healthy',\n",
    "    'Unhealthy': 'Unhealthy',\n",
    "    'Moderate': 'Moderate',\n",
    "    'More Healthy': 'Healthy',\n",
    "    'Less than Healthy':'Unhealthy',\n",
    "    'Less Healthy': 'Unhealthy',\n",
    "    'No Healthy': 'Unhealthy',\n",
    "    'Hormonal': 'Moderate',\n",
    "\n",
    "    # Degrees\n",
    "    'BSc': 'Unknown',\n",
    "    'M.Tech': 'Unknown',\n",
    "    'Class 12': 'Unknown',\n",
    "\n",
    "    # Names\n",
    "    'Pratham': 'Unknown',\n",
    "    'Mihir': 'Unknown',\n",
    "\n",
    "    # Yes/No\n",
    "    'Yes': 'Healthy',\n",
    "    'No': 'Unhealthy',\n",
    "\n",
    "    # Gender\n",
    "    'Male': 'Unknown',\n",
    "\n",
    "    # Locations\n",
    "    'Vegas': 'Unknown',\n",
    "\n",
    "    # Occupations\n",
    "    'Electrician': 'Unknown',\n",
    "\n",
    "    # Numeric Values\n",
    "    '3': 'Healthy',\n",
    "    '1.0': 'Unhealthy',\n",
    "    '2': 'Moderate',\n",
    "\n",
    "    # Miscellaneous\n",
    "    'Indoor': 'Unknown',\n",
    "    np.nan: 'Unknown'\n",
    "}\n",
    "\n",
    "# Map the values\n",
    "data['Dietary Habits'] = data['Dietary Habits'].map(value_mapping)\n",
    "\n",
    "print(data['Dietary Habits'].value_counts())\n"
   ]
  },
  {
   "cell_type": "code",
   "execution_count": 272,
   "metadata": {},
   "outputs": [
    {
     "data": {
      "text/plain": [
       "0"
      ]
     },
     "execution_count": 272,
     "metadata": {},
     "output_type": "execute_result"
    }
   ],
   "source": [
    "data['Dietary Habits'].fillna(\"Moderate\", inplace = True)\n",
    "data['Dietary Habits'].isna().sum()"
   ]
  },
  {
   "cell_type": "code",
   "execution_count": 273,
   "metadata": {},
   "outputs": [
    {
     "data": {
      "text/plain": [
       "array(['Chef', 'Teacher', nan, 'Business Analyst', 'Finanancial Analyst',\n",
       "       'Chemist', 'Electrician', 'Software Engineer', 'Data Scientist',\n",
       "       'Plumber', 'Marketing Manager', 'Accountant', 'Entrepreneur',\n",
       "       'HR Manager', 'UX/UI Designer', 'Content Writer',\n",
       "       'Educational Consultant', 'Civil Engineer', 'Manager',\n",
       "       'Pharmacist', 'Financial Analyst', 'Architect',\n",
       "       'Mechanical Engineer', 'Customer Support', 'Consultant', 'Judge',\n",
       "       'Researcher', 'Pilot', 'Graphic Designer', 'Travel Consultant',\n",
       "       'Digital Marketer', 'Lawyer', 'Research Analyst',\n",
       "       'Sales Executive', 'Doctor', 'Unemployed', 'Investment Banker',\n",
       "       'Family Consultant', 'B.Com', 'BE', 'Student', 'Yogesh', 'Dev',\n",
       "       'MBA', 'LLM', 'BCA', 'Academic', 'Profession', 'FamilyVirar',\n",
       "       'City Manager', 'BBA', 'Medical Doctor', 'Working Professional',\n",
       "       'MBBS', 'Patna', 'Unveil', 'B.Ed', 'Nagpur', 'Moderate', 'M.Ed',\n",
       "       'Analyst', 'Pranav', 'Visakhapatnam', 'PhD', 'Yuvraj'],\n",
       "      dtype=object)"
      ]
     },
     "execution_count": 273,
     "metadata": {},
     "output_type": "execute_result"
    }
   ],
   "source": [
    "data['Profession'].unique()"
   ]
  },
  {
   "cell_type": "code",
   "execution_count": 274,
   "metadata": {},
   "outputs": [
    {
     "name": "stdout",
     "output_type": "stream",
     "text": [
      "Profession\n",
      "Profession    104025\n",
      "Unknown        36645\n",
      "Education         22\n",
      "Name: count, dtype: int64\n"
     ]
    }
   ],
   "source": [
    "profession_mapping = {\n",
    "    # Professions\n",
    "    'Chef': 'Profession',\n",
    "    'Teacher': 'Profession',\n",
    "    'Business Analyst': 'Profession',\n",
    "    'Finanancial Analyst': 'Profession',\n",
    "    'Financial Analyst': 'Profession',\n",
    "    'Chemist': 'Profession',\n",
    "    'Electrician': 'Profession',\n",
    "    'Software Engineer': 'Profession',\n",
    "    'Data Scientist': 'Profession',\n",
    "    'Plumber': 'Profession',\n",
    "    'Marketing Manager': 'Profession',\n",
    "    'Accountant': 'Profession',\n",
    "    'Entrepreneur': 'Profession',\n",
    "    'HR Manager': 'Profession',\n",
    "    'UX/UI Designer': 'Profession',\n",
    "    'Content Writer': 'Profession',\n",
    "    'Educational Consultant': 'Profession',\n",
    "    'Civil Engineer': 'Profession',\n",
    "    'Manager': 'Profession',\n",
    "    'Pharmacist': 'Profession',\n",
    "    'Architect': 'Profession',\n",
    "    'Mechanical Engineer': 'Profession',\n",
    "    'Customer Support': 'Profession',\n",
    "    'Consultant': 'Profession',\n",
    "    'Judge': 'Profession',\n",
    "    'Researcher': 'Profession',\n",
    "    'Pilot': 'Profession',\n",
    "    'Graphic Designer': 'Profession',\n",
    "    'Travel Consultant': 'Profession',\n",
    "    'Digital Marketer': 'Profession',\n",
    "    'Lawyer': 'Profession',\n",
    "    'Research Analyst': 'Profession',\n",
    "    'Sales Executive': 'Profession',\n",
    "    'Doctor': 'Profession',\n",
    "    'Investment Banker': 'Profession',\n",
    "    'Family Consultant': 'Profession',\n",
    "    'City Manager': 'Profession',\n",
    "    'Analyst': 'Profession',\n",
    "    'Medical Doctor': 'Profession',\n",
    "    'Working Professional': 'Profession',\n",
    "\n",
    "    # Students/Education\n",
    "    'Student': 'Education',\n",
    "    'MBA': 'Education',\n",
    "    'B.Com': 'Education',\n",
    "    'BCA': 'Education',\n",
    "    'B.Ed': 'Education',\n",
    "    'M.Ed': 'Education',\n",
    "    'BE': 'Education',\n",
    "    'PhD': 'Education',\n",
    "    'MBBS': 'Education',\n",
    "    'LLM': 'Education',\n",
    "    'BBA': 'Education',\n",
    "\n",
    "    # Names\n",
    "    'Yogesh': 'Unknown',\n",
    "    'Dev': 'Unknown',\n",
    "    'Pranav': 'Unknown',\n",
    "    'Yuvraj': 'Unknown',\n",
    "\n",
    "    # Locations\n",
    "    'Patna': 'Unknown',\n",
    "    'Nagpur': 'Unknown',\n",
    "    'Visakhapatnam': 'Unknown',\n",
    "\n",
    "    # Miscellaneous\n",
    "    'Moderate': 'Unknown',\n",
    "    'Unveil': 'Unknown',\n",
    "    'Profession': 'Unknown',\n",
    "    'FamilyVirar': 'Unknown',\n",
    "    np.nan: 'Unknown'\n",
    "}\n",
    "\n",
    "# Map the values\n",
    "data['Profession'] = data['Profession'].map(profession_mapping)\n",
    "\n",
    "# Check the result\n",
    "print(data['Profession'].value_counts())\n"
   ]
  },
  {
   "cell_type": "code",
   "execution_count": 275,
   "metadata": {},
   "outputs": [],
   "source": [
    "data['Profession'].fillna('Unknown', inplace= True)"
   ]
  },
  {
   "cell_type": "code",
   "execution_count": 276,
   "metadata": {},
   "outputs": [
    {
     "name": "stdout",
     "output_type": "stream",
     "text": [
      "Sleep Duration\n",
      "Between 5 and 8 hours    69132\n",
      "Less than 5 hours        38814\n",
      "More than 8 hours        32737\n",
      "Others                      17\n",
      "Name: count, dtype: int64\n"
     ]
    }
   ],
   "source": [
    "# Define a dictionary for mapping\n",
    "sleep_mapping = {\n",
    "    'More than 8 hours': 'More than 8 hours',  # Treat as a general range\n",
    "    'Less than 5 hours': 'Less than 5 hours',  # Treat as the lower bound\n",
    "    '5-6 hours': 'Between 5 and 8 hours',\n",
    "    '7-8 hours': 'Between 5 and 8 hours',\n",
    "    '6-8 hours': 'Between 5 and 8 hours',\n",
    "    '4-6 hours': 'Between 5 and 8 hours',\n",
    "    '6-7 hours': 'Between 5 and 8 hours',\n",
    "    '10-11 hours': 'More than 8 hours',\n",
    "    '8-9 hours': 'More than 8 hours',\n",
    "    '9-11 hours': 'More than 8 hours',\n",
    "    '2-3 hours': 'Less than 5 hours',\n",
    "    '3-4 hours': 'Less than 5 hours',\n",
    "    'Moderate': 'Between 5 and 8 hours',  # Assuming this is a median value\n",
    "    '4-5 hours': 'Less than 5 hours',\n",
    "    '1-3 hours': 'Less than 5 hours',  # Assuming 1-3 hours to be on the lower end\n",
    "    '1-2 hours': 'Less than 5 hours',\n",
    "    '40-45 hours': 'More than 8 hours',\n",
    "    '45': 'More than 8 hours',\n",
    "    '35-36 hours': 'More than 8 hours',\n",
    "    '8 hours': 'Between 5 and 8 hours',\n",
    "    'No': 'Others', \n",
    "    '1-6 hours': 'Less than 5 hours',\n",
    "    '45-48 hours': 'More than 8 hours',\n",
    "    '9-5': 'Between 5 and 8 hours', \n",
    "    'Pune': 'Others',  \n",
    "    'Indore': 'Others',  \n",
    "    'Work_Study_Hours': 'Others', \n",
    "    '9-5 hours': 'Between 5 and 8 hours',  \n",
    "    'than 5 hours': 'Others'\n",
    "}\n",
    "\n",
    "# Map the 'Sleep Duration' column to numerical values\n",
    "data['Sleep Duration'] = data['Sleep Duration'].map(sleep_mapping)\n",
    "\n",
    "# Optional: Replace NaN (non-sleep-related values) with a placeholder if needed\n",
    "data['Sleep Duration'].fillna('Others', inplace=True)\n",
    "print(data['Sleep Duration'].value_counts())\n"
   ]
  },
  {
   "cell_type": "code",
   "execution_count": 277,
   "metadata": {},
   "outputs": [],
   "source": [
    "data['CGPA'].fillna(data['CGPA'].median(), inplace = True)\n"
   ]
  },
  {
   "cell_type": "code",
   "execution_count": 278,
   "metadata": {},
   "outputs": [
    {
     "data": {
      "text/plain": [
       "id                                            0\n",
       "Name                                          0\n",
       "Gender                                        0\n",
       "Age                                           0\n",
       "City                                          0\n",
       "Working Professional or Student               0\n",
       "Profession                                    0\n",
       "Academic Pressure                        112803\n",
       "Work Pressure                             27918\n",
       "CGPA                                          0\n",
       "Study Satisfaction                       112803\n",
       "Job Satisfaction                          27910\n",
       "Sleep Duration                                0\n",
       "Dietary Habits                                0\n",
       "Degree                                        0\n",
       "Have you ever had suicidal thoughts ?         0\n",
       "Work/Study Hours                              0\n",
       "Financial Stress                              0\n",
       "Family History of Mental Illness              0\n",
       "Depression                                    0\n",
       "Pressure                                      0\n",
       "Satisfaction                                  0\n",
       "dtype: int64"
      ]
     },
     "execution_count": 278,
     "metadata": {},
     "output_type": "execute_result"
    }
   ],
   "source": [
    "data.isna().sum()"
   ]
  },
  {
   "cell_type": "code",
   "execution_count": 279,
   "metadata": {},
   "outputs": [],
   "source": [
    "data.drop(columns=['City','Name','Academic Pressure','Work Pressure','Study Satisfaction','Job Satisfaction'], inplace=True)"
   ]
  },
  {
   "cell_type": "code",
   "execution_count": 280,
   "metadata": {},
   "outputs": [
    {
     "data": {
      "text/plain": [
       "0"
      ]
     },
     "execution_count": 280,
     "metadata": {},
     "output_type": "execute_result"
    }
   ],
   "source": [
    "(data.isna().sum()).sum()"
   ]
  },
  {
   "cell_type": "markdown",
   "metadata": {},
   "source": [
    "## Data Encoding"
   ]
  },
  {
   "cell_type": "code",
   "execution_count": 281,
   "metadata": {},
   "outputs": [],
   "source": [
    "y = data['Depression']"
   ]
  },
  {
   "cell_type": "code",
   "execution_count": 282,
   "metadata": {},
   "outputs": [
    {
     "data": {
      "text/plain": [
       "id                                       0\n",
       "Gender                                   0\n",
       "Age                                      0\n",
       "Working Professional or Student          0\n",
       "Profession                               0\n",
       "CGPA                                     0\n",
       "Sleep Duration                           0\n",
       "Dietary Habits                           0\n",
       "Degree                                   0\n",
       "Have you ever had suicidal thoughts ?    0\n",
       "Work/Study Hours                         0\n",
       "Financial Stress                         0\n",
       "Family History of Mental Illness         0\n",
       "Depression                               0\n",
       "Pressure                                 0\n",
       "Satisfaction                             0\n",
       "dtype: int64"
      ]
     },
     "execution_count": 282,
     "metadata": {},
     "output_type": "execute_result"
    }
   ],
   "source": [
    "data.isna().sum()"
   ]
  },
  {
   "cell_type": "code",
   "execution_count": 283,
   "metadata": {},
   "outputs": [
    {
     "data": {
      "text/plain": [
       "array([2., 3., 1., 5., 4.])"
      ]
     },
     "execution_count": 283,
     "metadata": {},
     "output_type": "execute_result"
    }
   ],
   "source": [
    "data['Satisfaction'].unique()"
   ]
  },
  {
   "cell_type": "code",
   "execution_count": 284,
   "metadata": {},
   "outputs": [],
   "source": [
    "\n",
    "degree_dummies = pd.get_dummies(data['Degree'], prefix='degree')\n",
    "data = pd.concat([data, degree_dummies], axis=1)\n",
    "data = data.drop('Degree', axis=1)"
   ]
  },
  {
   "cell_type": "code",
   "execution_count": 285,
   "metadata": {},
   "outputs": [],
   "source": [
    "dietary_dummies = pd.get_dummies(data['Dietary Habits'], prefix='Dietary')\n",
    "data = pd.concat([data, dietary_dummies], axis=1)\n",
    "data = data.drop('Dietary Habits', axis=1)"
   ]
  },
  {
   "cell_type": "code",
   "execution_count": 286,
   "metadata": {},
   "outputs": [],
   "source": [
    "sleep_dummies = pd.get_dummies(data['Sleep Duration'], prefix='sleep')\n",
    "data = pd.concat([data, sleep_dummies], axis=1)\n",
    "data = data.drop('Sleep Duration', axis=1)"
   ]
  },
  {
   "cell_type": "code",
   "execution_count": 287,
   "metadata": {},
   "outputs": [],
   "source": [
    "profession_dummies = pd.get_dummies(data['Profession'], prefix='Profession')\n",
    "data = pd.concat([data, profession_dummies], axis=1)\n",
    "data = data.drop('Profession', axis=1)"
   ]
  },
  {
   "cell_type": "code",
   "execution_count": 288,
   "metadata": {},
   "outputs": [],
   "source": [
    "data['Age']= (data['Age'] -data['Age'].mean())/data['Age'].std()\n",
    "data['CGPA'] = (data['CGPA'] -data['CGPA'].mean())/data['CGPA'].std()\n",
    "data['Work/Study Hours'] = (data['Work/Study Hours'] - data['Work/Study Hours'].mean())/data['Work/Study Hours'].std()\n",
    "data['Financial Stress'] = (data['Financial Stress'] - data['Financial Stress'].mean())/data['Financial Stress'].std()\n",
    "data['Pressure'] = (data['Pressure'] - data['Pressure'].mean())/data['Pressure'].std()\n",
    "data['Satisfaction'] = (data['Satisfaction'] - data['Satisfaction'].mean())/data['Pressure'].std()"
   ]
  },
  {
   "cell_type": "code",
   "execution_count": 289,
   "metadata": {},
   "outputs": [],
   "source": [
    "gender_map = {'Male': 1, 'Female': 0}\n",
    "data['Gender'] = data['Gender'].map(gender_map)"
   ]
  },
  {
   "cell_type": "code",
   "execution_count": 290,
   "metadata": {},
   "outputs": [],
   "source": [
    "\n",
    "work_map = {'Working Professional':1, 'Student':0}\n",
    "data['Working Professional or Student'] = data['Working Professional or Student'].map(work_map)\n",
    "bi_map = {'Yes':1, 'No':0}\n",
    "data['Have you ever had suicidal thoughts ?'] = data['Have you ever had suicidal thoughts ?'].map(bi_map)\n",
    "data['Family History of Mental Illness'] = data['Family History of Mental Illness'].map(bi_map)\n"
   ]
  },
  {
   "cell_type": "code",
   "execution_count": 291,
   "metadata": {},
   "outputs": [],
   "source": [
    "data.to_csv('Preprocessed_train.csv', index=False)"
   ]
  },
  {
   "cell_type": "markdown",
   "metadata": {},
   "source": [
    "# <center> ------------Test Data------------ </center>"
   ]
  },
  {
   "cell_type": "code",
   "execution_count": 292,
   "metadata": {},
   "outputs": [],
   "source": [
    "test = pd.read_csv('test.csv')"
   ]
  },
  {
   "cell_type": "code",
   "execution_count": 293,
   "metadata": {},
   "outputs": [
    {
     "data": {
      "text/plain": [
       "0"
      ]
     },
     "execution_count": 293,
     "metadata": {},
     "output_type": "execute_result"
    }
   ],
   "source": [
    "\n",
    "test['Pressure'] = np.where(test['Working Professional or Student'] == 'Student', test['Academic Pressure'], test['Work Pressure']) \n",
    "test['Pressure'].fillna(test['Pressure'].median(), inplace=True)\n",
    "test['Pressure'].isna().sum()\n"
   ]
  },
  {
   "cell_type": "code",
   "execution_count": 294,
   "metadata": {},
   "outputs": [
    {
     "data": {
      "text/plain": [
       "0"
      ]
     },
     "execution_count": 294,
     "metadata": {},
     "output_type": "execute_result"
    }
   ],
   "source": [
    "test['Satisfaction'] = np.where(test['Working Professional or Student'] == 'Student', test['Study Satisfaction'], test['Job Satisfaction']) \n",
    "test['Satisfaction'].fillna(test['Satisfaction'].median(), inplace=True)\n",
    "test['Satisfaction'].isna().sum()"
   ]
  },
  {
   "cell_type": "code",
   "execution_count": 295,
   "metadata": {},
   "outputs": [
    {
     "data": {
      "text/plain": [
       "0"
      ]
     },
     "execution_count": 295,
     "metadata": {},
     "output_type": "execute_result"
    }
   ],
   "source": [
    "test['Financial Stress'].fillna(test['Financial Stress'].median(), inplace=True)\n",
    "test['Financial Stress'].isna().sum()"
   ]
  },
  {
   "cell_type": "code",
   "execution_count": 296,
   "metadata": {},
   "outputs": [
    {
     "data": {
      "text/plain": [
       "array(['Undergraduate', 'Postgraduate', nan, 'Other', 'Doctoral'],\n",
       "      dtype=object)"
      ]
     },
     "execution_count": 296,
     "metadata": {},
     "output_type": "execute_result"
    }
   ],
   "source": [
    "test['Degree'] = test['Degree'].map(degree_mapping)\n",
    "test['Degree'].unique()"
   ]
  },
  {
   "cell_type": "code",
   "execution_count": 297,
   "metadata": {},
   "outputs": [
    {
     "data": {
      "text/plain": [
       "0"
      ]
     },
     "execution_count": 297,
     "metadata": {},
     "output_type": "execute_result"
    }
   ],
   "source": [
    "test['Degree'].fillna(\"Undergraduate\", inplace = True)\n",
    "test['Degree'].isna().sum()"
   ]
  },
  {
   "cell_type": "code",
   "execution_count": 298,
   "metadata": {},
   "outputs": [
    {
     "data": {
      "text/plain": [
       "array(['Moderate', 'Healthy', 'Unhealthy', 'Unknown'], dtype=object)"
      ]
     },
     "execution_count": 298,
     "metadata": {},
     "output_type": "execute_result"
    }
   ],
   "source": [
    "test['Dietary Habits'] = test['Dietary Habits'].map(value_mapping)\n",
    "test['Dietary Habits'].fillna(\"Moderate\", inplace = True)\n",
    "test['Dietary Habits'].unique()"
   ]
  },
  {
   "cell_type": "code",
   "execution_count": 299,
   "metadata": {},
   "outputs": [
    {
     "data": {
      "text/plain": [
       "array(['Profession', 'Unknown', 'Education'], dtype=object)"
      ]
     },
     "execution_count": 299,
     "metadata": {},
     "output_type": "execute_result"
    }
   ],
   "source": [
    "test['Profession'] = test['Profession'].map(profession_mapping)\n",
    "test['Profession'].fillna('Unknown', inplace= True)\n",
    "test['Profession'].unique()"
   ]
  },
  {
   "cell_type": "code",
   "execution_count": 300,
   "metadata": {},
   "outputs": [
    {
     "data": {
      "text/plain": [
       "array(['Less than 5 hours', 'Between 5 and 8 hours', 'More than 8 hours',\n",
       "       'Others'], dtype=object)"
      ]
     },
     "execution_count": 300,
     "metadata": {},
     "output_type": "execute_result"
    }
   ],
   "source": [
    "test['Sleep Duration'] = test['Sleep Duration'].map(sleep_mapping)\n",
    "test['Sleep Duration'].fillna('Others', inplace=True)\n",
    "test['Sleep Duration'].unique()"
   ]
  },
  {
   "cell_type": "code",
   "execution_count": 301,
   "metadata": {},
   "outputs": [],
   "source": [
    "test['CGPA'].fillna(test['CGPA'].median(), inplace = True)"
   ]
  },
  {
   "cell_type": "code",
   "execution_count": 302,
   "metadata": {},
   "outputs": [],
   "source": [
    "test.drop(columns=['Name','City','Academic Pressure','Work Pressure','Study Satisfaction','Job Satisfaction'], inplace=True)"
   ]
  },
  {
   "cell_type": "code",
   "execution_count": 303,
   "metadata": {},
   "outputs": [
    {
     "data": {
      "text/plain": [
       "0"
      ]
     },
     "execution_count": 303,
     "metadata": {},
     "output_type": "execute_result"
    }
   ],
   "source": [
    "(test.isna().sum()).sum()"
   ]
  },
  {
   "cell_type": "code",
   "execution_count": 304,
   "metadata": {},
   "outputs": [],
   "source": [
    "degree_dummies = pd.get_dummies(test['Degree'], prefix='degree')\n",
    "test = pd.concat([test, degree_dummies], axis=1)\n",
    "test = test.drop('Degree', axis=1)"
   ]
  },
  {
   "cell_type": "code",
   "execution_count": 305,
   "metadata": {},
   "outputs": [],
   "source": [
    "dietary_dummies = pd.get_dummies(test['Dietary Habits'], prefix='Dietary')\n",
    "test = pd.concat([test, dietary_dummies], axis=1)\n",
    "test = test.drop('Dietary Habits', axis=1)"
   ]
  },
  {
   "cell_type": "code",
   "execution_count": 306,
   "metadata": {},
   "outputs": [],
   "source": [
    "sleep_dummies = pd.get_dummies(test['Sleep Duration'], prefix='sleep')\n",
    "test = pd.concat([test, sleep_dummies], axis=1)\n",
    "test = test.drop('Sleep Duration', axis=1)"
   ]
  },
  {
   "cell_type": "code",
   "execution_count": 307,
   "metadata": {},
   "outputs": [],
   "source": [
    "profession_dummies = pd.get_dummies(test['Profession'], prefix='Profession')\n",
    "test = pd.concat([test, profession_dummies], axis=1)\n",
    "test = test.drop('Profession', axis=1)"
   ]
  },
  {
   "cell_type": "code",
   "execution_count": 308,
   "metadata": {},
   "outputs": [],
   "source": [
    "test['Age']= (test['Age'] - test['Age'].mean()) / test['Age'].std()\n",
    "test['CGPA'] = (test['CGPA'] - test['CGPA'].mean()) / test['CGPA'].std()\n",
    "test['Work/Study Hours'] = (test['Work/Study Hours'] - test['Work/Study Hours'].mean()) / test['Work/Study Hours'].std()\n",
    "test['Financial Stress'] = (test['Financial Stress'] - test['Financial Stress'].mean()) / test['Financial Stress'].std()\n",
    "test['Pressure'] = (test['Pressure'] - test['Pressure'].mean()) / test['Pressure'].std()\n",
    "test['Satisfaction'] = (test['Satisfaction'] - test['Satisfaction'].mean()) / test['Pressure'].std()"
   ]
  },
  {
   "cell_type": "code",
   "execution_count": 309,
   "metadata": {},
   "outputs": [],
   "source": [
    "test['Gender'] = test['Gender'].map(gender_map)"
   ]
  },
  {
   "cell_type": "code",
   "execution_count": 310,
   "metadata": {},
   "outputs": [],
   "source": [
    "test['Working Professional or Student'] = test['Working Professional or Student'].map(work_map)\n",
    "test['Have you ever had suicidal thoughts ?'] = test['Have you ever had suicidal thoughts ?'].map(bi_map)\n",
    "test['Family History of Mental Illness'] = test['Family History of Mental Illness'].map(bi_map)\n"
   ]
  },
  {
   "cell_type": "code",
   "execution_count": 311,
   "metadata": {},
   "outputs": [],
   "source": [
    "test.to_csv('preprocessed_test.csv', index=False)"
   ]
  }
 ],
 "metadata": {
  "kernelspec": {
   "display_name": "Python 3",
   "language": "python",
   "name": "python3"
  },
  "language_info": {
   "codemirror_mode": {
    "name": "ipython",
    "version": 3
   },
   "file_extension": ".py",
   "mimetype": "text/x-python",
   "name": "python",
   "nbconvert_exporter": "python",
   "pygments_lexer": "ipython3",
   "version": "3.11.9"
  }
 },
 "nbformat": 4,
 "nbformat_minor": 2
}
